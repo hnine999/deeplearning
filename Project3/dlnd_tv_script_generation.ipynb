{
 "cells": [
  {
   "cell_type": "markdown",
   "metadata": {
    "deletable": true,
    "editable": true
   },
   "source": [
    "# TV Script Generation\n",
    "In this project, you'll generate your own [Simpsons](https://en.wikipedia.org/wiki/The_Simpsons) TV scripts using RNNs.  You'll be using part of the [Simpsons dataset](https://www.kaggle.com/wcukierski/the-simpsons-by-the-data) of scripts from 27 seasons.  The Neural Network you'll build will generate a new TV script for a scene at [Moe's Tavern](https://simpsonswiki.com/wiki/Moe's_Tavern).\n",
    "## Get the Data\n",
    "The data is already provided for you.  You'll be using a subset of the original dataset.  It consists of only the scenes in Moe's Tavern.  This doesn't include other versions of the tavern, like \"Moe's Cavern\", \"Flaming Moe's\", \"Uncle Moe's Family Feed-Bag\", etc.."
   ]
  },
  {
   "cell_type": "code",
   "execution_count": 1,
   "metadata": {
    "collapsed": false,
    "deletable": true,
    "editable": true
   },
   "outputs": [],
   "source": [
    "\"\"\"\n",
    "DON'T MODIFY ANYTHING IN THIS CELL\n",
    "\"\"\"\n",
    "import helper\n",
    "\n",
    "data_dir = './data/simpsons/moes_tavern_lines.txt'\n",
    "text = helper.load_data(data_dir)\n",
    "# Ignore notice, since we don't use it for analysing the data\n",
    "text = text[81:]"
   ]
  },
  {
   "cell_type": "markdown",
   "metadata": {
    "deletable": true,
    "editable": true
   },
   "source": [
    "## Explore the Data\n",
    "Play around with `view_sentence_range` to view different parts of the data."
   ]
  },
  {
   "cell_type": "code",
   "execution_count": 2,
   "metadata": {
    "collapsed": false,
    "deletable": true,
    "editable": true
   },
   "outputs": [
    {
     "name": "stdout",
     "output_type": "stream",
     "text": [
      "Dataset Stats\n",
      "Roughly the number of unique words: 11492\n",
      "Number of scenes: 262\n",
      "Average number of sentences in each scene: 15.248091603053435\n",
      "Number of lines: 4257\n",
      "Average number of words in each line: 11.50434578341555\n",
      "\n",
      "The sentences 0 to 50:\n",
      "Moe_Szyslak: (INTO PHONE) Moe's Tavern. Where the elite meet to drink.\n",
      "Bart_Simpson: Eh, yeah, hello, is Mike there? Last name, Rotch.\n",
      "Moe_Szyslak: (INTO PHONE) Hold on, I'll check. (TO BARFLIES) Mike Rotch. Mike Rotch. Hey, has anybody seen Mike Rotch, lately?\n",
      "Moe_Szyslak: (INTO PHONE) Listen you little puke. One of these days I'm gonna catch you, and I'm gonna carve my name on your back with an ice pick.\n",
      "Moe_Szyslak: What's the matter Homer? You're not your normal effervescent self.\n",
      "Homer_Simpson: I got my problems, Moe. Give me another one.\n",
      "Moe_Szyslak: Homer, hey, you should not drink to forget your problems.\n",
      "Barney_Gumble: Yeah, you should only drink to enhance your social skills.\n",
      "\n",
      "\n",
      "Moe_Szyslak: Ah, isn't that nice. Now, there is a politician who cares.\n",
      "Barney_Gumble: If I ever vote, it'll be for him. (BELCH)\n",
      "\n",
      "\n",
      "Barney_Gumble: Hey Homer, how's your neighbor's store doing?\n",
      "Homer_Simpson: Lousy. He just sits there all day. He'd have a great job if he didn't own the place. (CHUCKLES)\n",
      "Moe_Szyslak: (STRUGGLING WITH CORKSCREW) Crummy right-handed corkscrews! What does he sell?\n",
      "Homer_Simpson: Uh, well actually, Moe...\n",
      "HOMER_(CONT'D: I dunno.\n",
      "\n",
      "\n",
      "Moe_Szyslak: Looks like this is the end.\n",
      "Barney_Gumble: That's all right. I couldn't have led a richer life.\n",
      "Barney_Gumble: So the next time somebody tells you county folk are good, honest people, you can spit in their faces for me!\n",
      "Lisa_Simpson: I will, Mr. Gumbel. But if you'll excuse me, I'm profiling my dad for the school paper. I thought it would be neat to follow him around for a day to see what makes him tick.\n",
      "Barney_Gumble: Oh, that's sweet. I used to follow my dad to a lot of bars too. (BELCH)\n",
      "Moe_Szyslak: Here you go. One beer, one chocolate milk.\n",
      "Lisa_Simpson: Uh, excuse me, I have the chocolate milk.\n",
      "Moe_Szyslak: Oh.\n",
      "Moe_Szyslak: What's the matter, Homer? The depressin' effects of alcohol usually don't kick in 'til closing time.\n",
      "Lisa_Simpson: He's just a little nervous. (PROUDLY) He has to give a speech tomorrow on \"How To Keep Cool In A Crisis.\"\n",
      "Homer_Simpson: (SOBS) What am I gonna do? What am I gonna do?\n",
      "Barney_Gumble: Hey, I had to give a speech once. I was pretty nervous, so I used a little trick. I pictured everyone in their underwear. The judge, the jury, my lawyer, everybody.\n",
      "Homer_Simpson: Did it work?\n",
      "Barney_Gumble: I'm a free man, ain't I?\n",
      "Barney_Gumble: Whoa!\n",
      "Barney_Gumble: Huh? A pretzel? Wow, looks like I pulled a Homer!\n",
      "\n",
      "\n",
      "Patrons: (MUMBLING, NOT IN UNISON) Happy thoughts... happy thoughts... we love that boy.\n",
      "Moe_Szyslak: (INTO PHONE) Moe's Tavern. Hold on, I'll check. ... (LOUD) Hey everybody! I'm a stupid moron with an ugly face and a big butt, and my butt smells, and I like to kiss my own butt.\n",
      "Barney_Gumble: That's a new one (LAUGHING).\n",
      "Moe_Szyslak: Now wait a minute...\n",
      "\n",
      "\n",
      "Homer_Simpson: Hurry, Moe, hurry! I've only got five minutes till the music store closes.\n",
      "Moe_Szyslak: Why don't you go there first?\n",
      "Homer_Simpson: Hey, do I tell you how to do your job?\n",
      "Moe_Szyslak: Sorry, Homer.\n",
      "Homer_Simpson: You know, if you tip the glass, there won't be so much foam on top.\n"
     ]
    }
   ],
   "source": [
    "view_sentence_range = (0, 50)\n",
    "\n",
    "\"\"\"\n",
    "DON'T MODIFY ANYTHING IN THIS CELL\n",
    "\"\"\"\n",
    "import numpy as np\n",
    "\n",
    "print('Dataset Stats')\n",
    "print('Roughly the number of unique words: {}'.format(len({word: None for word in text.split()})))\n",
    "scenes = text.split('\\n\\n')\n",
    "print('Number of scenes: {}'.format(len(scenes)))\n",
    "sentence_count_scene = [scene.count('\\n') for scene in scenes]\n",
    "print('Average number of sentences in each scene: {}'.format(np.average(sentence_count_scene)))\n",
    "\n",
    "sentences = [sentence for scene in scenes for sentence in scene.split('\\n')]\n",
    "print('Number of lines: {}'.format(len(sentences)))\n",
    "word_count_sentence = [len(sentence.split()) for sentence in sentences]\n",
    "print('Average number of words in each line: {}'.format(np.average(word_count_sentence)))\n",
    "\n",
    "print()\n",
    "print('The sentences {} to {}:'.format(*view_sentence_range))\n",
    "print('\\n'.join(text.split('\\n')[view_sentence_range[0]:view_sentence_range[1]]))"
   ]
  },
  {
   "cell_type": "markdown",
   "metadata": {
    "deletable": true,
    "editable": true
   },
   "source": [
    "## Implement Preprocessing Functions\n",
    "The first thing to do to any dataset is preprocessing.  Implement the following preprocessing functions below:\n",
    "- Lookup Table\n",
    "- Tokenize Punctuation\n",
    "\n",
    "### Lookup Table\n",
    "To create a word embedding, you first need to transform the words to ids.  In this function, create two dictionaries:\n",
    "- Dictionary to go from the words to an id, we'll call `vocab_to_int`\n",
    "- Dictionary to go from the id to word, we'll call `int_to_vocab`\n",
    "\n",
    "Return these dictionaries in the following tuple `(vocab_to_int, int_to_vocab)`"
   ]
  },
  {
   "cell_type": "code",
   "execution_count": 3,
   "metadata": {
    "collapsed": false,
    "deletable": true,
    "editable": true
   },
   "outputs": [
    {
     "name": "stdout",
     "output_type": "stream",
     "text": [
      "Tests Passed\n"
     ]
    }
   ],
   "source": [
    "import numpy as np\n",
    "import problem_unittests as tests\n",
    "\n",
    "def create_lookup_tables(text):\n",
    "    \"\"\"\n",
    "    Create lookup tables for vocabulary\n",
    "    :param text: The text of tv scripts split into words\n",
    "    :return: A tuple of dicts (vocab_to_int, int_to_vocab)\n",
    "    \"\"\"\n",
    "    vocab_to_int = {word : ix for ix,word in enumerate(set(text))}\n",
    "    int_to_vocab = {ix : word for word, ix in vocab_to_int.items()}\n",
    "    # TODO: Implement Function\n",
    "    return vocab_to_int, int_to_vocab\n",
    "\n",
    "\n",
    "\"\"\"\n",
    "DON'T MODIFY ANYTHING IN THIS CELL THAT IS BELOW THIS LINE\n",
    "\"\"\"\n",
    "tests.test_create_lookup_tables(create_lookup_tables)"
   ]
  },
  {
   "cell_type": "markdown",
   "metadata": {
    "deletable": true,
    "editable": true
   },
   "source": [
    "### Tokenize Punctuation\n",
    "We'll be splitting the script into a word array using spaces as delimiters.  However, punctuations like periods and exclamation marks make it hard for the neural network to distinguish between the word \"bye\" and \"bye!\".\n",
    "\n",
    "Implement the function `token_lookup` to return a dict that will be used to tokenize symbols like \"!\" into \"||Exclamation_Mark||\".  Create a dictionary for the following symbols where the symbol is the key and value is the token:\n",
    "- Period ( . )\n",
    "- Comma ( , )\n",
    "- Quotation Mark ( \" )\n",
    "- Semicolon ( ; )\n",
    "- Exclamation mark ( ! )\n",
    "- Question mark ( ? )\n",
    "- Left Parentheses ( ( )\n",
    "- Right Parentheses ( ) )\n",
    "- Dash ( -- )\n",
    "- Return ( \\n )\n",
    "\n",
    "This dictionary will be used to token the symbols and add the delimiter (space) around it.  This separates the symbols as it's own word, making it easier for the neural network to predict on the next word. Make sure you don't use a token that could be confused as a word. Instead of using the token \"dash\", try using something like \"||dash||\"."
   ]
  },
  {
   "cell_type": "code",
   "execution_count": 4,
   "metadata": {
    "collapsed": false,
    "deletable": true,
    "editable": true
   },
   "outputs": [
    {
     "name": "stdout",
     "output_type": "stream",
     "text": [
      "Tests Passed\n"
     ]
    }
   ],
   "source": [
    "def token_lookup():\n",
    "    \"\"\"\n",
    "    Generate a dict to turn punctuation into a token.\n",
    "    :return: Tokenize dictionary where the key is the punctuation and the value is the token\n",
    "    \"\"\"\n",
    "    punctuation_to_token = {}\n",
    "    punctuation_to_token['.'] = \"<PERIOD>\"\n",
    "    punctuation_to_token[','] = \"<COMMA>\"\n",
    "    punctuation_to_token['\"'] = \"<DOUBLE-QUOTE>\"\n",
    "    punctuation_to_token[';'] = \"<SEMICOLON>\"\n",
    "    punctuation_to_token['!'] = \"<EXCLAMATION-MARK>\"\n",
    "    punctuation_to_token['?'] = \"<QUESTION-MARK>\"\n",
    "    punctuation_to_token['('] = \"<RIGHT-PARENTHESIS>\"\n",
    "    punctuation_to_token[')'] = \"<LEFT-PARENTHESIS>\"\n",
    "    punctuation_to_token['--'] = \"<DASH>\"\n",
    "    punctuation_to_token['\\n'] = \"<NEWLINE>\"\n",
    "    # TODO: Implement Function\n",
    "    return punctuation_to_token\n",
    "\n",
    "\"\"\"\n",
    "DON'T MODIFY ANYTHING IN THIS CELL THAT IS BELOW THIS LINE\n",
    "\"\"\"\n",
    "tests.test_tokenize(token_lookup)"
   ]
  },
  {
   "cell_type": "markdown",
   "metadata": {
    "deletable": true,
    "editable": true
   },
   "source": [
    "## Preprocess all the data and save it\n",
    "Running the code cell below will preprocess all the data and save it to file."
   ]
  },
  {
   "cell_type": "code",
   "execution_count": 5,
   "metadata": {
    "collapsed": false,
    "deletable": true,
    "editable": true
   },
   "outputs": [],
   "source": [
    "\"\"\"\n",
    "DON'T MODIFY ANYTHING IN THIS CELL\n",
    "\"\"\"\n",
    "# Preprocess Training, Validation, and Testing Data\n",
    "helper.preprocess_and_save_data(data_dir, token_lookup, create_lookup_tables)"
   ]
  },
  {
   "cell_type": "markdown",
   "metadata": {
    "deletable": true,
    "editable": true
   },
   "source": [
    "# Check Point\n",
    "This is your first checkpoint. If you ever decide to come back to this notebook or have to restart the notebook, you can start from here. The preprocessed data has been saved to disk."
   ]
  },
  {
   "cell_type": "code",
   "execution_count": 6,
   "metadata": {
    "collapsed": false,
    "deletable": true,
    "editable": true
   },
   "outputs": [],
   "source": [
    "\"\"\"\n",
    "DON'T MODIFY ANYTHING IN THIS CELL\n",
    "\"\"\"\n",
    "import helper\n",
    "import numpy as np\n",
    "import problem_unittests as tests\n",
    "\n",
    "int_text, vocab_to_int, int_to_vocab, token_dict = helper.load_preprocess()"
   ]
  },
  {
   "cell_type": "markdown",
   "metadata": {
    "deletable": true,
    "editable": true
   },
   "source": [
    "## Build the Neural Network\n",
    "You'll build the components necessary to build a RNN by implementing the following functions below:\n",
    "- get_inputs\n",
    "- get_init_cell\n",
    "- get_embed\n",
    "- build_rnn\n",
    "- build_nn\n",
    "- get_batches\n",
    "\n",
    "### Check the Version of TensorFlow and Access to GPU"
   ]
  },
  {
   "cell_type": "code",
   "execution_count": 7,
   "metadata": {
    "collapsed": false,
    "deletable": true,
    "editable": true
   },
   "outputs": [
    {
     "name": "stdout",
     "output_type": "stream",
     "text": [
      "TensorFlow Version: 1.0.1\n"
     ]
    },
    {
     "name": "stderr",
     "output_type": "stream",
     "text": [
      "/home/carnd/anaconda3/lib/python3.5/site-packages/ipykernel/__main__.py:14: UserWarning: No GPU found. Please use a GPU to train your neural network.\n"
     ]
    }
   ],
   "source": [
    "\"\"\"\n",
    "DON'T MODIFY ANYTHING IN THIS CELL\n",
    "\"\"\"\n",
    "from distutils.version import LooseVersion\n",
    "import warnings\n",
    "import tensorflow as tf\n",
    "\n",
    "# Check TensorFlow Version\n",
    "assert LooseVersion(tf.__version__) >= LooseVersion('1.0'), 'Please use TensorFlow version 1.0 or newer'\n",
    "print('TensorFlow Version: {}'.format(tf.__version__))\n",
    "\n",
    "# Check for a GPU\n",
    "if not tf.test.gpu_device_name():\n",
    "    warnings.warn('No GPU found. Please use a GPU to train your neural network.')\n",
    "else:\n",
    "    print('Default GPU Device: {}'.format(tf.test.gpu_device_name()))"
   ]
  },
  {
   "cell_type": "markdown",
   "metadata": {
    "deletable": true,
    "editable": true
   },
   "source": [
    "### Input\n",
    "Implement the `get_inputs()` function to create TF Placeholders for the Neural Network.  It should create the following placeholders:\n",
    "- Input text placeholder named \"input\" using the [TF Placeholder](https://www.tensorflow.org/api_docs/python/tf/placeholder) `name` parameter.\n",
    "- Targets placeholder\n",
    "- Learning Rate placeholder\n",
    "\n",
    "Return the placeholders in the following tuple `(Input, Targets, LearningRate)`"
   ]
  },
  {
   "cell_type": "code",
   "execution_count": 8,
   "metadata": {
    "collapsed": false,
    "deletable": true,
    "editable": true
   },
   "outputs": [
    {
     "name": "stdout",
     "output_type": "stream",
     "text": [
      "Tests Passed\n"
     ]
    }
   ],
   "source": [
    "def get_inputs():\n",
    "    \"\"\"\n",
    "    Create TF Placeholders for input, targets, and learning rate.\n",
    "    :return: Tuple (input, targets, learning rate)\n",
    "    \"\"\"\n",
    "    # TODO: Implement Function\n",
    "    inputs = tf.placeholder(tf.int32, [None, None], name=\"input\")\n",
    "    targets = tf.placeholder(tf.int32, [None, None], name=\"targets\")\n",
    "    learning_rate = tf.placeholder(tf.float32, name=\"learning-rate\")\n",
    "    return inputs, targets, learning_rate\n",
    "\n",
    "\n",
    "\"\"\"\n",
    "DON'T MODIFY ANYTHING IN THIS CELL THAT IS BELOW THIS LINE\n",
    "\"\"\"\n",
    "tests.test_get_inputs(get_inputs)"
   ]
  },
  {
   "cell_type": "markdown",
   "metadata": {
    "deletable": true,
    "editable": true
   },
   "source": [
    "### Build RNN Cell and Initialize\n",
    "Stack one or more [`BasicLSTMCells`](https://www.tensorflow.org/api_docs/python/tf/contrib/rnn/BasicLSTMCell) in a [`MultiRNNCell`](https://www.tensorflow.org/api_docs/python/tf/contrib/rnn/MultiRNNCell).\n",
    "- The Rnn size should be set using `rnn_size`\n",
    "- Initalize Cell State using the MultiRNNCell's [`zero_state()`](https://www.tensorflow.org/api_docs/python/tf/contrib/rnn/MultiRNNCell#zero_state) function\n",
    "    - Apply the name \"initial_state\" to the initial state using [`tf.identity()`](https://www.tensorflow.org/api_docs/python/tf/identity)\n",
    "\n",
    "Return the cell and initial state in the following tuple `(Cell, InitialState)`"
   ]
  },
  {
   "cell_type": "code",
   "execution_count": 9,
   "metadata": {
    "collapsed": false,
    "deletable": true,
    "editable": true
   },
   "outputs": [
    {
     "name": "stdout",
     "output_type": "stream",
     "text": [
      "Tests Passed\n"
     ]
    }
   ],
   "source": [
    "def get_init_cell(batch_size, rnn_size):\n",
    "    \"\"\"\n",
    "    Create an RNN Cell and initialize it.\n",
    "    :param batch_size: Size of batches\n",
    "    :param rnn_size: Size of RNNs\n",
    "    :return: Tuple (cell, initialize state)\n",
    "    \"\"\"\n",
    "    rnn = tf.contrib.rnn.BasicLSTMCell(rnn_size)\n",
    "    cell = tf.contrib.rnn.MultiRNNCell([rnn] * 2)\n",
    "    \n",
    "    initial_state = tf.identity(cell.zero_state(batch_size, tf.float32), name=\"initial_state\")\n",
    "\n",
    "    # TODO: Implement Function\n",
    "    return cell, initial_state\n",
    "\n",
    "\n",
    "\"\"\"\n",
    "DON'T MODIFY ANYTHING IN THIS CELL THAT IS BELOW THIS LINE\n",
    "\"\"\"\n",
    "tests.test_get_init_cell(get_init_cell)"
   ]
  },
  {
   "cell_type": "markdown",
   "metadata": {
    "deletable": true,
    "editable": true
   },
   "source": [
    "### Word Embedding\n",
    "Apply embedding to `input_data` using TensorFlow.  Return the embedded sequence."
   ]
  },
  {
   "cell_type": "code",
   "execution_count": 10,
   "metadata": {
    "collapsed": false,
    "deletable": true,
    "editable": true
   },
   "outputs": [
    {
     "name": "stdout",
     "output_type": "stream",
     "text": [
      "Tests Passed\n"
     ]
    }
   ],
   "source": [
    "init_flag = True\n",
    "embedding = None\n",
    "def get_embed(input_data, vocab_size, embed_dim):\n",
    "    \"\"\"\n",
    "    Create embedding for <input_data>.\n",
    "    :param input_data: TF placeholder for text input.\n",
    "    :param vocab_size: Number of words in vocabulary.\n",
    "    :param embed_dim: Number of embedding dimensions\n",
    "    :return: Embedded input.\n",
    "    \"\"\"\n",
    "    \n",
    "    global init_flag\n",
    "    global embedding\n",
    "    \n",
    "    # TODO: Implement Function\n",
    "    if (init_flag):\n",
    "        embedding = tf.Variable(tf.random_uniform((vocab_size, embed_dim), -1, 1))\n",
    "        init_flag = False\n",
    "    \n",
    "    embed = tf.nn.embedding_lookup(embedding, input_data)\n",
    "    return embed\n",
    "\n",
    "\n",
    "\"\"\"\n",
    "DON'T MODIFY ANYTHING IN THIS CELL THAT IS BELOW THIS LINE\n",
    "\"\"\"\n",
    "tests.test_get_embed(get_embed)"
   ]
  },
  {
   "cell_type": "markdown",
   "metadata": {
    "deletable": true,
    "editable": true
   },
   "source": [
    "### Build RNN\n",
    "You created a RNN Cell in the `get_init_cell()` function.  Time to use the cell to create a RNN.\n",
    "- Build the RNN using the [`tf.nn.dynamic_rnn()`](https://www.tensorflow.org/api_docs/python/tf/nn/dynamic_rnn)\n",
    " - Apply the name \"final_state\" to the final state using [`tf.identity()`](https://www.tensorflow.org/api_docs/python/tf/identity)\n",
    "\n",
    "Return the outputs and final_state state in the following tuple `(Outputs, FinalState)` "
   ]
  },
  {
   "cell_type": "code",
   "execution_count": 11,
   "metadata": {
    "collapsed": false,
    "deletable": true,
    "editable": true
   },
   "outputs": [
    {
     "name": "stdout",
     "output_type": "stream",
     "text": [
      "Tests Passed\n"
     ]
    }
   ],
   "source": [
    "def build_rnn(cell, inputs):\n",
    "    \"\"\"\n",
    "    Create a RNN using a RNN Cell\n",
    "    :param cell: RNN Cell\n",
    "    :param inputs: Input text dataa\n",
    "    :return: Tuple (Outputs, Final State)\n",
    "    \"\"\"\n",
    "    # TODO: Implement Function\n",
    "    outputs, final_state = tf.nn.dynamic_rnn(cell, inputs, dtype=tf.float32)\n",
    "    final_state = tf.identity(final_state, name=\"final_state\")\n",
    "    return outputs, final_state\n",
    "\n",
    "\n",
    "\"\"\"\n",
    "DON'T MODIFY ANYTHING IN THIS CELL THAT IS BELOW THIS LINE\n",
    "\"\"\"\n",
    "tests.test_build_rnn(build_rnn)"
   ]
  },
  {
   "cell_type": "markdown",
   "metadata": {
    "deletable": true,
    "editable": true
   },
   "source": [
    "### Build the Neural Network\n",
    "Apply the functions you implemented above to:\n",
    "- Apply embedding to `input_data` using your `get_embed(input_data, vocab_size, embed_dim)` function.\n",
    "- Build RNN using `cell` and your `build_rnn(cell, inputs)` function.\n",
    "- Apply a fully connected layer with a linear activation and `vocab_size` as the number of outputs.\n",
    "\n",
    "Return the logits and final state in the following tuple (Logits, FinalState) "
   ]
  },
  {
   "cell_type": "code",
   "execution_count": 12,
   "metadata": {
    "collapsed": false
   },
   "outputs": [
    {
     "name": "stdout",
     "output_type": "stream",
     "text": [
      "6779\n"
     ]
    }
   ],
   "source": [
    "print(len(vocab_to_int))"
   ]
  },
  {
   "cell_type": "code",
   "execution_count": 13,
   "metadata": {
    "collapsed": false,
    "deletable": true,
    "editable": true
   },
   "outputs": [
    {
     "name": "stdout",
     "output_type": "stream",
     "text": [
      "Tests Passed\n"
     ]
    }
   ],
   "source": [
    "def build_nn(cell, rnn_size, input_data, vocab_size, embed_dim):\n",
    "    \"\"\"\n",
    "    Build part of the neural network\n",
    "    :param cell: RNN cell\n",
    "    :param rnn_size: Size of rnns\n",
    "    :param input_data: Input data\n",
    "    :param vocab_size: Vocabulary size\n",
    "    :param embed_dim: Number of embedding dimensions\n",
    "    :return: Tuple (Logits, FinalState)\n",
    "    \"\"\"\n",
    "    global init_flag\n",
    "    init_flag = True\n",
    "    embeddings = get_embed(input_data, vocab_size, embed_dim)\n",
    "    outputs, final_state = build_rnn(cell, embeddings)\n",
    "    \n",
    "    logits = tf.contrib.layers.fully_connected(outputs, vocab_size, activation_fn=None)\n",
    "\n",
    "    # TODO: Implement Function\n",
    "    return logits, final_state \n",
    "\n",
    "\n",
    "\"\"\"\n",
    "DON'T MODIFY ANYTHING IN THIS CELL THAT IS BELOW THIS LINE\n",
    "\"\"\"\n",
    "tests.test_build_nn(build_nn)"
   ]
  },
  {
   "cell_type": "markdown",
   "metadata": {
    "deletable": true,
    "editable": true
   },
   "source": [
    "### Batches\n",
    "Implement `get_batches` to create batches of input and targets using `int_text`.  The batches should be a Numpy array with the shape `(number of batches, 2, batch size, sequence length)`. Each batch contains two elements:\n",
    "- The first element is a single batch of **input** with the shape `[batch size, sequence length]`\n",
    "- The second element is a single batch of **targets** with the shape `[batch size, sequence length]`\n",
    "\n",
    "If you can't fill the last batch with enough data, drop the last batch.\n",
    "\n",
    "For exmple, `get_batches([1, 2, 3, 4, 5, 6, 7, 8, 9, 10, 11, 12, 13, 14, 15], 2, 3)` would return a Numpy array of the following:\n",
    "```\n",
    "[\n",
    "  # First Batch\n",
    "  [\n",
    "    # Batch of Input\n",
    "    [[ 1  2  3], [ 7  8  9]],\n",
    "    # Batch of targets\n",
    "    [[ 2  3  4], [ 8  9 10]]\n",
    "  ],\n",
    " \n",
    "  # Second Batch\n",
    "  [\n",
    "    # Batch of Input\n",
    "    [[ 4  5  6], [10 11 12]],\n",
    "    # Batch of targets\n",
    "    [[ 5  6  7], [11 12 13]]\n",
    "  ]\n",
    "]\n",
    "```"
   ]
  },
  {
   "cell_type": "code",
   "execution_count": 14,
   "metadata": {
    "collapsed": false,
    "deletable": true,
    "editable": true
   },
   "outputs": [
    {
     "name": "stdout",
     "output_type": "stream",
     "text": [
      "Tests Passed\n"
     ]
    }
   ],
   "source": [
    "def get_batches(int_text, batch_size, seq_length):\n",
    "    \"\"\"\n",
    "    Return batches of input and target\n",
    "    :param int_text: Text with the words replaced by their ids\n",
    "    :param batch_size: The size of batch\n",
    "    :param seq_length: The length of sequence\n",
    "    :return: Batches as a Numpy array\n",
    "    \"\"\"\n",
    "    \n",
    "    slice_size = batch_size * seq_length\n",
    "    num_batches = len(int_text)//slice_size\n",
    "    int_text_used = slice_size * num_batches;\n",
    "    if (int_text_used == len(int_text)):\n",
    "        int_text_used = slize_size * (num_batches - 1)\n",
    "    \n",
    "    x = np.array(int_text[:int_text_used])\n",
    "    y = np.array(int_text[1:int_text_used + 1])\n",
    "    \n",
    "    x = np.reshape(x, [-1, num_batches, seq_length])\n",
    "    x = np.concatenate(x, axis=1)\n",
    "    x = np.reshape(x, [-1, batch_size, seq_length])\n",
    "\n",
    "    y = np.reshape(y, [-1, num_batches, seq_length])\n",
    "    y = np.concatenate(y, axis=1)\n",
    "    y = np.reshape(y, [-1, batch_size, seq_length])\n",
    "\n",
    "    output = np.concatenate([x, y], axis=1)\n",
    "    output = np.reshape(output, [-1, 2, batch_size, seq_length])\n",
    "    \n",
    "    # TODO: Implement Function\n",
    "    return output\n",
    "\n",
    "\n",
    "\"\"\"\n",
    "DON'T MODIFY ANYTHING IN THIS CELL THAT IS BELOW THIS LINE\n",
    "\"\"\"\n",
    "tests.test_get_batches(get_batches)"
   ]
  },
  {
   "cell_type": "markdown",
   "metadata": {
    "deletable": true,
    "editable": true
   },
   "source": [
    "## Neural Network Training\n",
    "### Hyperparameters\n",
    "Tune the following parameters:\n",
    "\n",
    "- Set `num_epochs` to the number of epochs.\n",
    "- Set `batch_size` to the batch size.\n",
    "- Set `rnn_size` to the size of the RNNs.\n",
    "- Set `embed_dim` to the size of the embedding.\n",
    "- Set `seq_length` to the length of sequence.\n",
    "- Set `learning_rate` to the learning rate.\n",
    "- Set `show_every_n_batches` to the number of batches the neural network should print progress."
   ]
  },
  {
   "cell_type": "code",
   "execution_count": 21,
   "metadata": {
    "collapsed": true,
    "deletable": true,
    "editable": true
   },
   "outputs": [],
   "source": [
    "# Number of Epochs\n",
    "num_epochs = 2000\n",
    "# Batch Size\n",
    "batch_size = 127\n",
    "# RNN Size\n",
    "rnn_size = 128\n",
    "# Embedding Dimension Size\n",
    "embed_dim = 300\n",
    "# Sequence Length\n",
    "seq_length = 128\n",
    "# Learning Rate\n",
    "learning_rate = 0.005\n",
    "# Show stats for every n number of batches\n",
    "show_every_n_batches = 20\n",
    "\n",
    "\"\"\"\n",
    "DON'T MODIFY ANYTHING IN THIS CELL THAT IS BELOW THIS LINE\n",
    "\"\"\"\n",
    "save_dir = './save'"
   ]
  },
  {
   "cell_type": "markdown",
   "metadata": {
    "deletable": true,
    "editable": true
   },
   "source": [
    "### Build the Graph\n",
    "Build the graph using the neural network you implemented."
   ]
  },
  {
   "cell_type": "code",
   "execution_count": 22,
   "metadata": {
    "collapsed": false,
    "deletable": true,
    "editable": true
   },
   "outputs": [],
   "source": [
    "\"\"\"\n",
    "DON'T MODIFY ANYTHING IN THIS CELL\n",
    "\"\"\"\n",
    "from tensorflow.contrib import seq2seq\n",
    "\n",
    "train_graph = tf.Graph()\n",
    "with train_graph.as_default():\n",
    "    vocab_size = len(int_to_vocab)\n",
    "    input_text, targets, lr = get_inputs()\n",
    "    input_data_shape = tf.shape(input_text)\n",
    "    cell, initial_state = get_init_cell(input_data_shape[0], rnn_size)\n",
    "    logits, final_state = build_nn(cell, rnn_size, input_text, vocab_size, embed_dim)\n",
    "\n",
    "    # Probabilities for generating words\n",
    "    probs = tf.nn.softmax(logits, name='probs')\n",
    "\n",
    "    # Loss function\n",
    "    cost = seq2seq.sequence_loss(\n",
    "        logits,\n",
    "        targets,\n",
    "        tf.ones([input_data_shape[0], input_data_shape[1]]))\n",
    "\n",
    "    # Optimizer\n",
    "    optimizer = tf.train.AdamOptimizer(lr)\n",
    "\n",
    "    # Gradient Clipping\n",
    "    gradients = optimizer.compute_gradients(cost)\n",
    "    capped_gradients = [(tf.clip_by_value(grad, -1., 1.), var) for grad, var in gradients if grad is not None]\n",
    "    train_op = optimizer.apply_gradients(capped_gradients)"
   ]
  },
  {
   "cell_type": "markdown",
   "metadata": {
    "deletable": true,
    "editable": true
   },
   "source": [
    "## Train\n",
    "Train the neural network on the preprocessed data.  If you have a hard time getting a good loss, check the [forms](https://discussions.udacity.com/) to see if anyone is having the same problem."
   ]
  },
  {
   "cell_type": "code",
   "execution_count": 23,
   "metadata": {
    "collapsed": false,
    "deletable": true,
    "editable": true
   },
   "outputs": [
    {
     "name": "stdout",
     "output_type": "stream",
     "text": [
      "Epoch   0 Batch    0/4   train_loss = 8.822\n",
      "Epoch   5 Batch    0/4   train_loss = 6.005\n",
      "Epoch  10 Batch    0/4   train_loss = 5.898\n",
      "Epoch  15 Batch    0/4   train_loss = 5.886\n",
      "Epoch  20 Batch    0/4   train_loss = 5.856\n",
      "Epoch  25 Batch    0/4   train_loss = 5.716\n",
      "Epoch  30 Batch    0/4   train_loss = 5.589\n",
      "Epoch  35 Batch    0/4   train_loss = 5.445\n",
      "Epoch  40 Batch    0/4   train_loss = 5.275\n",
      "Epoch  45 Batch    0/4   train_loss = 5.129\n",
      "Epoch  50 Batch    0/4   train_loss = 5.016\n",
      "Epoch  55 Batch    0/4   train_loss = 4.923\n",
      "Epoch  60 Batch    0/4   train_loss = 4.839\n",
      "Epoch  65 Batch    0/4   train_loss = 4.757\n",
      "Epoch  70 Batch    0/4   train_loss = 4.666\n",
      "Epoch  75 Batch    0/4   train_loss = 4.568\n",
      "Epoch  80 Batch    0/4   train_loss = 4.472\n",
      "Epoch  85 Batch    0/4   train_loss = 4.370\n",
      "Epoch  90 Batch    0/4   train_loss = 4.276\n",
      "Epoch  95 Batch    0/4   train_loss = 4.179\n",
      "Epoch 100 Batch    0/4   train_loss = 4.091\n",
      "Epoch 105 Batch    0/4   train_loss = 4.003\n",
      "Epoch 110 Batch    0/4   train_loss = 3.939\n",
      "Epoch 115 Batch    0/4   train_loss = 3.871\n",
      "Epoch 120 Batch    0/4   train_loss = 3.764\n",
      "Epoch 125 Batch    0/4   train_loss = 3.695\n",
      "Epoch 130 Batch    0/4   train_loss = 3.649\n",
      "Epoch 135 Batch    0/4   train_loss = 3.549\n",
      "Epoch 140 Batch    0/4   train_loss = 3.489\n",
      "Epoch 145 Batch    0/4   train_loss = 3.433\n",
      "Epoch 150 Batch    0/4   train_loss = 3.363\n",
      "Epoch 155 Batch    0/4   train_loss = 3.317\n",
      "Epoch 160 Batch    0/4   train_loss = 3.270\n",
      "Epoch 165 Batch    0/4   train_loss = 3.198\n",
      "Epoch 170 Batch    0/4   train_loss = 3.142\n",
      "Epoch 175 Batch    0/4   train_loss = 3.120\n",
      "Epoch 180 Batch    0/4   train_loss = 3.058\n",
      "Epoch 185 Batch    0/4   train_loss = 2.987\n",
      "Epoch 190 Batch    0/4   train_loss = 2.972\n",
      "Epoch 195 Batch    0/4   train_loss = 2.906\n",
      "Epoch 200 Batch    0/4   train_loss = 2.857\n",
      "Epoch 205 Batch    0/4   train_loss = 2.815\n",
      "Epoch 210 Batch    0/4   train_loss = 2.785\n",
      "Epoch 215 Batch    0/4   train_loss = 2.737\n",
      "Epoch 220 Batch    0/4   train_loss = 2.696\n",
      "Epoch 225 Batch    0/4   train_loss = 2.668\n",
      "Epoch 230 Batch    0/4   train_loss = 2.624\n",
      "Epoch 235 Batch    0/4   train_loss = 2.588\n",
      "Epoch 240 Batch    0/4   train_loss = 2.535\n",
      "Epoch 245 Batch    0/4   train_loss = 2.502\n",
      "Epoch 250 Batch    0/4   train_loss = 2.476\n",
      "Epoch 255 Batch    0/4   train_loss = 2.442\n",
      "Epoch 260 Batch    0/4   train_loss = 2.396\n",
      "Epoch 265 Batch    0/4   train_loss = 2.374\n",
      "Epoch 270 Batch    0/4   train_loss = 2.332\n",
      "Epoch 275 Batch    0/4   train_loss = 2.327\n",
      "Epoch 280 Batch    0/4   train_loss = 2.316\n",
      "Epoch 285 Batch    0/4   train_loss = 2.279\n",
      "Epoch 290 Batch    0/4   train_loss = 2.221\n",
      "Epoch 295 Batch    0/4   train_loss = 2.177\n",
      "Epoch 300 Batch    0/4   train_loss = 2.151\n",
      "Epoch 305 Batch    0/4   train_loss = 2.175\n",
      "Epoch 310 Batch    0/4   train_loss = 2.087\n",
      "Epoch 315 Batch    0/4   train_loss = 2.081\n",
      "Epoch 320 Batch    0/4   train_loss = 2.048\n",
      "Epoch 325 Batch    0/4   train_loss = 2.034\n",
      "Epoch 330 Batch    0/4   train_loss = 1.987\n",
      "Epoch 335 Batch    0/4   train_loss = 1.990\n",
      "Epoch 340 Batch    0/4   train_loss = 1.923\n",
      "Epoch 345 Batch    0/4   train_loss = 1.946\n",
      "Epoch 350 Batch    0/4   train_loss = 1.892\n",
      "Epoch 355 Batch    0/4   train_loss = 1.858\n",
      "Epoch 360 Batch    0/4   train_loss = 1.808\n",
      "Epoch 365 Batch    0/4   train_loss = 1.791\n",
      "Epoch 370 Batch    0/4   train_loss = 1.780\n",
      "Epoch 375 Batch    0/4   train_loss = 1.810\n",
      "Epoch 380 Batch    0/4   train_loss = 1.705\n",
      "Epoch 385 Batch    0/4   train_loss = 1.692\n",
      "Epoch 390 Batch    0/4   train_loss = 1.689\n",
      "Epoch 395 Batch    0/4   train_loss = 1.653\n",
      "Epoch 400 Batch    0/4   train_loss = 1.601\n",
      "Epoch 405 Batch    0/4   train_loss = 1.619\n",
      "Epoch 410 Batch    0/4   train_loss = 1.600\n",
      "Epoch 415 Batch    0/4   train_loss = 1.538\n",
      "Epoch 420 Batch    0/4   train_loss = 1.528\n",
      "Epoch 425 Batch    0/4   train_loss = 1.550\n",
      "Epoch 430 Batch    0/4   train_loss = 1.612\n",
      "Epoch 435 Batch    0/4   train_loss = 1.502\n",
      "Epoch 440 Batch    0/4   train_loss = 1.475\n",
      "Epoch 445 Batch    0/4   train_loss = 1.457\n",
      "Epoch 450 Batch    0/4   train_loss = 1.444\n",
      "Epoch 455 Batch    0/4   train_loss = 1.412\n",
      "Epoch 460 Batch    0/4   train_loss = 1.389\n",
      "Epoch 465 Batch    0/4   train_loss = 1.393\n",
      "Epoch 470 Batch    0/4   train_loss = 1.360\n",
      "Epoch 475 Batch    0/4   train_loss = 1.368\n",
      "Epoch 480 Batch    0/4   train_loss = 1.327\n",
      "Epoch 485 Batch    0/4   train_loss = 1.301\n",
      "Epoch 490 Batch    0/4   train_loss = 1.294\n",
      "Epoch 495 Batch    0/4   train_loss = 1.264\n",
      "Epoch 500 Batch    0/4   train_loss = 1.246\n",
      "Epoch 505 Batch    0/4   train_loss = 1.271\n",
      "Epoch 510 Batch    0/4   train_loss = 1.207\n",
      "Epoch 515 Batch    0/4   train_loss = 1.177\n",
      "Epoch 520 Batch    0/4   train_loss = 1.173\n",
      "Epoch 525 Batch    0/4   train_loss = 1.201\n",
      "Epoch 530 Batch    0/4   train_loss = 1.154\n",
      "Epoch 535 Batch    0/4   train_loss = 1.113\n",
      "Epoch 540 Batch    0/4   train_loss = 1.160\n",
      "Epoch 545 Batch    0/4   train_loss = 1.144\n",
      "Epoch 550 Batch    0/4   train_loss = 1.111\n",
      "Epoch 555 Batch    0/4   train_loss = 1.092\n",
      "Epoch 560 Batch    0/4   train_loss = 1.088\n",
      "Epoch 565 Batch    0/4   train_loss = 1.081\n",
      "Epoch 570 Batch    0/4   train_loss = 1.053\n",
      "Epoch 575 Batch    0/4   train_loss = 1.033\n",
      "Epoch 580 Batch    0/4   train_loss = 1.021\n",
      "Epoch 585 Batch    0/4   train_loss = 1.013\n",
      "Epoch 590 Batch    0/4   train_loss = 1.020\n",
      "Epoch 595 Batch    0/4   train_loss = 0.990\n",
      "Epoch 600 Batch    0/4   train_loss = 0.965\n",
      "Epoch 605 Batch    0/4   train_loss = 0.938\n",
      "Epoch 610 Batch    0/4   train_loss = 0.970\n",
      "Epoch 615 Batch    0/4   train_loss = 0.941\n",
      "Epoch 620 Batch    0/4   train_loss = 0.925\n",
      "Epoch 625 Batch    0/4   train_loss = 0.926\n",
      "Epoch 630 Batch    0/4   train_loss = 0.905\n",
      "Epoch 635 Batch    0/4   train_loss = 0.867\n",
      "Epoch 640 Batch    0/4   train_loss = 0.877\n",
      "Epoch 645 Batch    0/4   train_loss = 0.848\n",
      "Epoch 650 Batch    0/4   train_loss = 0.904\n",
      "Epoch 655 Batch    0/4   train_loss = 0.844\n",
      "Epoch 660 Batch    0/4   train_loss = 0.812\n",
      "Epoch 665 Batch    0/4   train_loss = 0.815\n",
      "Epoch 670 Batch    0/4   train_loss = 0.840\n",
      "Epoch 675 Batch    0/4   train_loss = 0.812\n",
      "Epoch 680 Batch    0/4   train_loss = 0.773\n",
      "Epoch 685 Batch    0/4   train_loss = 0.775\n",
      "Epoch 690 Batch    0/4   train_loss = 0.766\n",
      "Epoch 695 Batch    0/4   train_loss = 0.757\n",
      "Epoch 700 Batch    0/4   train_loss = 0.738\n",
      "Epoch 705 Batch    0/4   train_loss = 0.728\n",
      "Epoch 710 Batch    0/4   train_loss = 0.748\n",
      "Epoch 715 Batch    0/4   train_loss = 0.776\n",
      "Epoch 720 Batch    0/4   train_loss = 0.736\n",
      "Epoch 725 Batch    0/4   train_loss = 0.720\n",
      "Epoch 730 Batch    0/4   train_loss = 0.704\n",
      "Epoch 735 Batch    0/4   train_loss = 0.673\n",
      "Epoch 740 Batch    0/4   train_loss = 0.654\n",
      "Epoch 745 Batch    0/4   train_loss = 0.682\n",
      "Epoch 750 Batch    0/4   train_loss = 0.672\n",
      "Epoch 755 Batch    0/4   train_loss = 0.654\n",
      "Epoch 760 Batch    0/4   train_loss = 0.640\n",
      "Epoch 765 Batch    0/4   train_loss = 0.641\n",
      "Epoch 770 Batch    0/4   train_loss = 0.644\n",
      "Epoch 775 Batch    0/4   train_loss = 0.635\n",
      "Epoch 780 Batch    0/4   train_loss = 0.633\n",
      "Epoch 785 Batch    0/4   train_loss = 0.590\n",
      "Epoch 790 Batch    0/4   train_loss = 0.609\n",
      "Epoch 795 Batch    0/4   train_loss = 0.582\n",
      "Epoch 800 Batch    0/4   train_loss = 0.574\n",
      "Epoch 805 Batch    0/4   train_loss = 0.571\n",
      "Epoch 810 Batch    0/4   train_loss = 0.598\n",
      "Epoch 815 Batch    0/4   train_loss = 0.565\n",
      "Epoch 820 Batch    0/4   train_loss = 0.585\n",
      "Epoch 825 Batch    0/4   train_loss = 0.549\n",
      "Epoch 830 Batch    0/4   train_loss = 0.525\n",
      "Epoch 835 Batch    0/4   train_loss = 0.542\n",
      "Epoch 840 Batch    0/4   train_loss = 0.558\n",
      "Epoch 845 Batch    0/4   train_loss = 0.526\n",
      "Epoch 850 Batch    0/4   train_loss = 0.505\n",
      "Epoch 855 Batch    0/4   train_loss = 0.497\n",
      "Epoch 860 Batch    0/4   train_loss = 0.489\n",
      "Epoch 865 Batch    0/4   train_loss = 0.485\n",
      "Epoch 870 Batch    0/4   train_loss = 0.481\n",
      "Epoch 875 Batch    0/4   train_loss = 0.473\n",
      "Epoch 880 Batch    0/4   train_loss = 0.468\n",
      "Epoch 885 Batch    0/4   train_loss = 0.506\n",
      "Epoch 890 Batch    0/4   train_loss = 0.521\n",
      "Epoch 895 Batch    0/4   train_loss = 0.623\n",
      "Epoch 900 Batch    0/4   train_loss = 0.610\n",
      "Epoch 905 Batch    0/4   train_loss = 0.506\n",
      "Epoch 910 Batch    0/4   train_loss = 0.459\n",
      "Epoch 915 Batch    0/4   train_loss = 0.429\n",
      "Epoch 920 Batch    0/4   train_loss = 0.418\n",
      "Epoch 925 Batch    0/4   train_loss = 0.419\n",
      "Epoch 930 Batch    0/4   train_loss = 0.417\n",
      "Epoch 935 Batch    0/4   train_loss = 0.411\n",
      "Epoch 940 Batch    0/4   train_loss = 0.409\n",
      "Epoch 945 Batch    0/4   train_loss = 0.406\n",
      "Epoch 950 Batch    0/4   train_loss = 0.392\n",
      "Epoch 955 Batch    0/4   train_loss = 0.394\n",
      "Epoch 960 Batch    0/4   train_loss = 0.413\n",
      "Epoch 965 Batch    0/4   train_loss = 0.410\n",
      "Epoch 970 Batch    0/4   train_loss = 0.385\n",
      "Epoch 975 Batch    0/4   train_loss = 0.364\n",
      "Epoch 980 Batch    0/4   train_loss = 0.360\n",
      "Epoch 985 Batch    0/4   train_loss = 0.387\n",
      "Epoch 990 Batch    0/4   train_loss = 0.376\n",
      "Epoch 995 Batch    0/4   train_loss = 0.391\n",
      "Epoch 1000 Batch    0/4   train_loss = 0.359\n",
      "Epoch 1005 Batch    0/4   train_loss = 0.339\n",
      "Epoch 1010 Batch    0/4   train_loss = 0.340\n",
      "Epoch 1015 Batch    0/4   train_loss = 0.331\n",
      "Epoch 1020 Batch    0/4   train_loss = 0.362\n",
      "Epoch 1025 Batch    0/4   train_loss = 0.438\n",
      "Epoch 1030 Batch    0/4   train_loss = 0.743\n",
      "Epoch 1035 Batch    0/4   train_loss = 0.736\n",
      "Epoch 1040 Batch    0/4   train_loss = 0.473\n",
      "Epoch 1045 Batch    0/4   train_loss = 0.372\n",
      "Epoch 1050 Batch    0/4   train_loss = 0.338\n",
      "Epoch 1055 Batch    0/4   train_loss = 0.320\n",
      "Epoch 1060 Batch    0/4   train_loss = 0.313\n",
      "Epoch 1065 Batch    0/4   train_loss = 0.307\n",
      "Epoch 1070 Batch    0/4   train_loss = 0.303\n",
      "Epoch 1075 Batch    0/4   train_loss = 0.295\n",
      "Epoch 1080 Batch    0/4   train_loss = 0.293\n",
      "Epoch 1085 Batch    0/4   train_loss = 0.290\n",
      "Epoch 1090 Batch    0/4   train_loss = 0.284\n",
      "Epoch 1095 Batch    0/4   train_loss = 0.280\n",
      "Epoch 1100 Batch    0/4   train_loss = 0.277\n",
      "Epoch 1105 Batch    0/4   train_loss = 0.277\n",
      "Epoch 1110 Batch    0/4   train_loss = 0.277\n",
      "Epoch 1115 Batch    0/4   train_loss = 0.273\n",
      "Epoch 1120 Batch    0/4   train_loss = 0.275\n",
      "Epoch 1125 Batch    0/4   train_loss = 0.265\n",
      "Epoch 1130 Batch    0/4   train_loss = 0.260\n",
      "Epoch 1135 Batch    0/4   train_loss = 0.264\n",
      "Epoch 1140 Batch    0/4   train_loss = 0.265\n",
      "Epoch 1145 Batch    0/4   train_loss = 0.256\n",
      "Epoch 1150 Batch    0/4   train_loss = 0.254\n",
      "Epoch 1155 Batch    0/4   train_loss = 0.246\n",
      "Epoch 1160 Batch    0/4   train_loss = 0.240\n",
      "Epoch 1165 Batch    0/4   train_loss = 0.242\n",
      "Epoch 1170 Batch    0/4   train_loss = 0.241\n",
      "Epoch 1175 Batch    0/4   train_loss = 0.236\n",
      "Epoch 1180 Batch    0/4   train_loss = 0.233\n",
      "Epoch 1185 Batch    0/4   train_loss = 0.233\n",
      "Epoch 1190 Batch    0/4   train_loss = 0.236\n",
      "Epoch 1195 Batch    0/4   train_loss = 0.224\n",
      "Epoch 1200 Batch    0/4   train_loss = 0.224\n",
      "Epoch 1205 Batch    0/4   train_loss = 0.247\n",
      "Epoch 1210 Batch    0/4   train_loss = 0.238\n",
      "Epoch 1215 Batch    0/4   train_loss = 0.365\n",
      "Epoch 1220 Batch    0/4   train_loss = 0.710\n",
      "Epoch 1225 Batch    0/4   train_loss = 0.597\n",
      "Epoch 1230 Batch    0/4   train_loss = 0.451\n",
      "Epoch 1235 Batch    0/4   train_loss = 0.294\n",
      "Epoch 1240 Batch    0/4   train_loss = 0.236\n",
      "Epoch 1245 Batch    0/4   train_loss = 0.217\n",
      "Epoch 1250 Batch    0/4   train_loss = 0.207\n",
      "Epoch 1255 Batch    0/4   train_loss = 0.200\n",
      "Epoch 1260 Batch    0/4   train_loss = 0.195\n",
      "Epoch 1265 Batch    0/4   train_loss = 0.191\n",
      "Epoch 1270 Batch    0/4   train_loss = 0.187\n",
      "Epoch 1275 Batch    0/4   train_loss = 0.185\n",
      "Epoch 1280 Batch    0/4   train_loss = 0.181\n",
      "Epoch 1285 Batch    0/4   train_loss = 0.177\n",
      "Epoch 1290 Batch    0/4   train_loss = 0.175\n",
      "Epoch 1295 Batch    0/4   train_loss = 0.173\n",
      "Epoch 1300 Batch    0/4   train_loss = 0.169\n",
      "Epoch 1305 Batch    0/4   train_loss = 0.170\n",
      "Epoch 1310 Batch    0/4   train_loss = 0.164\n",
      "Epoch 1315 Batch    0/4   train_loss = 0.162\n",
      "Epoch 1320 Batch    0/4   train_loss = 0.159\n",
      "Epoch 1325 Batch    0/4   train_loss = 0.161\n",
      "Epoch 1330 Batch    0/4   train_loss = 0.157\n",
      "Epoch 1335 Batch    0/4   train_loss = 0.152\n",
      "Epoch 1340 Batch    0/4   train_loss = 0.152\n",
      "Epoch 1345 Batch    0/4   train_loss = 0.151\n",
      "Epoch 1350 Batch    0/4   train_loss = 0.157\n",
      "Epoch 1355 Batch    0/4   train_loss = 0.162\n",
      "Epoch 1360 Batch    0/4   train_loss = 0.179\n",
      "Epoch 1365 Batch    0/4   train_loss = 0.192\n",
      "Epoch 1370 Batch    0/4   train_loss = 0.177\n",
      "Epoch 1375 Batch    0/4   train_loss = 0.156\n",
      "Epoch 1380 Batch    0/4   train_loss = 0.140\n",
      "Epoch 1385 Batch    0/4   train_loss = 0.134\n",
      "Epoch 1390 Batch    0/4   train_loss = 0.131\n",
      "Epoch 1395 Batch    0/4   train_loss = 0.128\n",
      "Epoch 1400 Batch    0/4   train_loss = 0.126\n",
      "Epoch 1405 Batch    0/4   train_loss = 0.125\n",
      "Epoch 1410 Batch    0/4   train_loss = 0.127\n",
      "Epoch 1415 Batch    0/4   train_loss = 0.123\n",
      "Epoch 1420 Batch    0/4   train_loss = 0.124\n",
      "Epoch 1425 Batch    0/4   train_loss = 0.123\n",
      "Epoch 1430 Batch    0/4   train_loss = 0.121\n",
      "Epoch 1435 Batch    0/4   train_loss = 0.118\n",
      "Epoch 1440 Batch    0/4   train_loss = 0.115\n",
      "Epoch 1445 Batch    0/4   train_loss = 0.113\n",
      "Epoch 1450 Batch    0/4   train_loss = 0.116\n",
      "Epoch 1455 Batch    0/4   train_loss = 0.114\n",
      "Epoch 1460 Batch    0/4   train_loss = 0.129\n",
      "Epoch 1465 Batch    0/4   train_loss = 0.825\n",
      "Epoch 1470 Batch    0/4   train_loss = 1.526\n",
      "Epoch 1475 Batch    0/4   train_loss = 0.692\n",
      "Epoch 1480 Batch    0/4   train_loss = 0.376\n",
      "Epoch 1485 Batch    0/4   train_loss = 0.269\n",
      "Epoch 1490 Batch    0/4   train_loss = 0.213\n",
      "Epoch 1495 Batch    0/4   train_loss = 0.185\n",
      "Epoch 1500 Batch    0/4   train_loss = 0.170\n",
      "Epoch 1505 Batch    0/4   train_loss = 0.159\n",
      "Epoch 1510 Batch    0/4   train_loss = 0.150\n",
      "Epoch 1515 Batch    0/4   train_loss = 0.144\n",
      "Epoch 1520 Batch    0/4   train_loss = 0.139\n",
      "Epoch 1525 Batch    0/4   train_loss = 0.135\n",
      "Epoch 1530 Batch    0/4   train_loss = 0.132\n",
      "Epoch 1535 Batch    0/4   train_loss = 0.128\n",
      "Epoch 1540 Batch    0/4   train_loss = 0.124\n",
      "Epoch 1545 Batch    0/4   train_loss = 0.123\n",
      "Epoch 1550 Batch    0/4   train_loss = 0.120\n",
      "Epoch 1555 Batch    0/4   train_loss = 0.116\n",
      "Epoch 1560 Batch    0/4   train_loss = 0.114\n",
      "Epoch 1565 Batch    0/4   train_loss = 0.112\n",
      "Epoch 1570 Batch    0/4   train_loss = 0.109\n",
      "Epoch 1575 Batch    0/4   train_loss = 0.107\n",
      "Epoch 1580 Batch    0/4   train_loss = 0.105\n",
      "Epoch 1585 Batch    0/4   train_loss = 0.104\n",
      "Epoch 1590 Batch    0/4   train_loss = 0.102\n",
      "Epoch 1595 Batch    0/4   train_loss = 0.101\n",
      "Epoch 1600 Batch    0/4   train_loss = 0.099\n",
      "Epoch 1605 Batch    0/4   train_loss = 0.098\n",
      "Epoch 1610 Batch    0/4   train_loss = 0.098\n",
      "Epoch 1615 Batch    0/4   train_loss = 0.100\n",
      "Epoch 1620 Batch    0/4   train_loss = 0.097\n",
      "Epoch 1625 Batch    0/4   train_loss = 0.098\n",
      "Epoch 1630 Batch    0/4   train_loss = 0.097\n",
      "Epoch 1635 Batch    0/4   train_loss = 0.091\n",
      "Epoch 1640 Batch    0/4   train_loss = 0.087\n",
      "Epoch 1645 Batch    0/4   train_loss = 0.085\n",
      "Epoch 1650 Batch    0/4   train_loss = 0.084\n",
      "Epoch 1655 Batch    0/4   train_loss = 0.083\n",
      "Epoch 1660 Batch    0/4   train_loss = 0.082\n",
      "Epoch 1665 Batch    0/4   train_loss = 0.081\n",
      "Epoch 1670 Batch    0/4   train_loss = 0.080\n",
      "Epoch 1675 Batch    0/4   train_loss = 0.079\n",
      "Epoch 1680 Batch    0/4   train_loss = 0.077\n",
      "Epoch 1685 Batch    0/4   train_loss = 0.078\n",
      "Epoch 1690 Batch    0/4   train_loss = 0.078\n",
      "Epoch 1695 Batch    0/4   train_loss = 0.079\n",
      "Epoch 1700 Batch    0/4   train_loss = 0.137\n",
      "Epoch 1705 Batch    0/4   train_loss = 1.259\n",
      "Epoch 1710 Batch    0/4   train_loss = 0.714\n",
      "Epoch 1715 Batch    0/4   train_loss = 0.332\n",
      "Epoch 1720 Batch    0/4   train_loss = 0.192\n",
      "Epoch 1725 Batch    0/4   train_loss = 0.131\n",
      "Epoch 1730 Batch    0/4   train_loss = 0.111\n",
      "Epoch 1735 Batch    0/4   train_loss = 0.101\n",
      "Epoch 1740 Batch    0/4   train_loss = 0.096\n",
      "Epoch 1745 Batch    0/4   train_loss = 0.092\n",
      "Epoch 1750 Batch    0/4   train_loss = 0.089\n",
      "Epoch 1755 Batch    0/4   train_loss = 0.086\n",
      "Epoch 1760 Batch    0/4   train_loss = 0.084\n",
      "Epoch 1765 Batch    0/4   train_loss = 0.082\n",
      "Epoch 1770 Batch    0/4   train_loss = 0.080\n",
      "Epoch 1775 Batch    0/4   train_loss = 0.078\n",
      "Epoch 1780 Batch    0/4   train_loss = 0.076\n",
      "Epoch 1785 Batch    0/4   train_loss = 0.075\n",
      "Epoch 1790 Batch    0/4   train_loss = 0.074\n",
      "Epoch 1795 Batch    0/4   train_loss = 0.072\n",
      "Epoch 1800 Batch    0/4   train_loss = 0.071\n",
      "Epoch 1805 Batch    0/4   train_loss = 0.070\n",
      "Epoch 1810 Batch    0/4   train_loss = 0.068\n",
      "Epoch 1815 Batch    0/4   train_loss = 0.067\n",
      "Epoch 1820 Batch    0/4   train_loss = 0.067\n",
      "Epoch 1825 Batch    0/4   train_loss = 0.066\n",
      "Epoch 1830 Batch    0/4   train_loss = 0.065\n",
      "Epoch 1835 Batch    0/4   train_loss = 0.064\n",
      "Epoch 1840 Batch    0/4   train_loss = 0.063\n",
      "Epoch 1845 Batch    0/4   train_loss = 0.062\n",
      "Epoch 1850 Batch    0/4   train_loss = 0.061\n",
      "Epoch 1855 Batch    0/4   train_loss = 0.060\n",
      "Epoch 1860 Batch    0/4   train_loss = 0.059\n",
      "Epoch 1865 Batch    0/4   train_loss = 0.058\n",
      "Epoch 1870 Batch    0/4   train_loss = 0.058\n",
      "Epoch 1875 Batch    0/4   train_loss = 0.057\n",
      "Epoch 1880 Batch    0/4   train_loss = 0.056\n",
      "Epoch 1885 Batch    0/4   train_loss = 0.056\n",
      "Epoch 1890 Batch    0/4   train_loss = 0.055\n",
      "Epoch 1895 Batch    0/4   train_loss = 0.054\n",
      "Epoch 1900 Batch    0/4   train_loss = 0.054\n",
      "Epoch 1905 Batch    0/4   train_loss = 0.053\n",
      "Epoch 1910 Batch    0/4   train_loss = 0.052\n",
      "Epoch 1915 Batch    0/4   train_loss = 0.052\n",
      "Epoch 1920 Batch    0/4   train_loss = 0.056\n",
      "Epoch 1925 Batch    0/4   train_loss = 0.098\n",
      "Epoch 1930 Batch    0/4   train_loss = 0.689\n",
      "Epoch 1935 Batch    0/4   train_loss = 0.972\n",
      "Epoch 1940 Batch    0/4   train_loss = 0.416\n",
      "Epoch 1945 Batch    0/4   train_loss = 0.220\n",
      "Epoch 1950 Batch    0/4   train_loss = 0.123\n",
      "Epoch 1955 Batch    0/4   train_loss = 0.095\n",
      "Epoch 1960 Batch    0/4   train_loss = 0.083\n",
      "Epoch 1965 Batch    0/4   train_loss = 0.077\n",
      "Epoch 1970 Batch    0/4   train_loss = 0.073\n",
      "Epoch 1975 Batch    0/4   train_loss = 0.070\n",
      "Epoch 1980 Batch    0/4   train_loss = 0.068\n",
      "Epoch 1985 Batch    0/4   train_loss = 0.066\n",
      "Epoch 1990 Batch    0/4   train_loss = 0.064\n",
      "Epoch 1995 Batch    0/4   train_loss = 0.062\n",
      "Model Trained and Saved\n"
     ]
    }
   ],
   "source": [
    "\"\"\"\n",
    "DON'T MODIFY ANYTHING IN THIS CELL\n",
    "\"\"\"\n",
    "batches = get_batches(int_text, batch_size, seq_length)\n",
    "\n",
    "with tf.Session(graph=train_graph) as sess:\n",
    "    sess.run(tf.global_variables_initializer())\n",
    "\n",
    "    for epoch_i in range(num_epochs):\n",
    "        state = sess.run(initial_state, {input_text: batches[0][0]})\n",
    "\n",
    "        for batch_i, (x, y) in enumerate(batches):\n",
    "            feed = {\n",
    "                input_text: x,\n",
    "                targets: y,\n",
    "                initial_state: state,\n",
    "                lr: learning_rate}\n",
    "            train_loss, state, _ = sess.run([cost, final_state, train_op], feed)\n",
    "\n",
    "            # Show every <show_every_n_batches> batches\n",
    "            if (epoch_i * len(batches) + batch_i) % show_every_n_batches == 0:\n",
    "                print('Epoch {:>3} Batch {:>4}/{}   train_loss = {:.3f}'.format(\n",
    "                    epoch_i,\n",
    "                    batch_i,\n",
    "                    len(batches),\n",
    "                    train_loss))\n",
    "\n",
    "    # Save Model\n",
    "    saver = tf.train.Saver()\n",
    "    saver.save(sess, save_dir)\n",
    "    print('Model Trained and Saved')"
   ]
  },
  {
   "cell_type": "markdown",
   "metadata": {
    "deletable": true,
    "editable": true
   },
   "source": [
    "## Save Parameters\n",
    "Save `seq_length` and `save_dir` for generating a new TV script."
   ]
  },
  {
   "cell_type": "code",
   "execution_count": 24,
   "metadata": {
    "collapsed": false,
    "deletable": true,
    "editable": true
   },
   "outputs": [],
   "source": [
    "\"\"\"\n",
    "DON'T MODIFY ANYTHING IN THIS CELL\n",
    "\"\"\"\n",
    "# Save parameters for checkpoint\n",
    "helper.save_params((seq_length, save_dir))"
   ]
  },
  {
   "cell_type": "markdown",
   "metadata": {
    "deletable": true,
    "editable": true
   },
   "source": [
    "# Checkpoint"
   ]
  },
  {
   "cell_type": "code",
   "execution_count": 25,
   "metadata": {
    "collapsed": false,
    "deletable": true,
    "editable": true
   },
   "outputs": [],
   "source": [
    "\"\"\"\n",
    "DON'T MODIFY ANYTHING IN THIS CELL\n",
    "\"\"\"\n",
    "import tensorflow as tf\n",
    "import numpy as np\n",
    "import helper\n",
    "import problem_unittests as tests\n",
    "\n",
    "_, vocab_to_int, int_to_vocab, token_dict = helper.load_preprocess()\n",
    "seq_length, load_dir = helper.load_params()"
   ]
  },
  {
   "cell_type": "markdown",
   "metadata": {
    "deletable": true,
    "editable": true
   },
   "source": [
    "## Implement Generate Functions\n",
    "### Get Tensors\n",
    "Get tensors from `loaded_graph` using the function [`get_tensor_by_name()`](https://www.tensorflow.org/api_docs/python/tf/Graph#get_tensor_by_name).  Get the tensors using the following names:\n",
    "- \"input:0\"\n",
    "- \"initial_state:0\"\n",
    "- \"final_state:0\"\n",
    "- \"probs:0\"\n",
    "\n",
    "Return the tensors in the following tuple `(InputTensor, InitialStateTensor, FinalStateTensor, ProbsTensor)` "
   ]
  },
  {
   "cell_type": "code",
   "execution_count": 26,
   "metadata": {
    "collapsed": false,
    "deletable": true,
    "editable": true
   },
   "outputs": [
    {
     "name": "stdout",
     "output_type": "stream",
     "text": [
      "Tests Passed\n"
     ]
    }
   ],
   "source": [
    "def get_tensors(loaded_graph):\n",
    "    \"\"\"\n",
    "    Get input, initial state, final state, and probabilities tensor from <loaded_graph>\n",
    "    :param loaded_graph: TensorFlow graph loaded from file\n",
    "    :return: Tuple (InputTensor, InitialStateTensor, FinalStateTensor, ProbsTensor)\n",
    "    \"\"\"\n",
    "    \n",
    "    # TODO: Implement Function\n",
    "    return loaded_graph.get_tensor_by_name(\"input:0\"), loaded_graph.get_tensor_by_name(\"initial_state:0\"), loaded_graph.get_tensor_by_name(\"final_state:0\"), loaded_graph.get_tensor_by_name(\"probs:0\")\n",
    "\n",
    "\n",
    "\"\"\"\n",
    "DON'T MODIFY ANYTHING IN THIS CELL THAT IS BELOW THIS LINE\n",
    "\"\"\"\n",
    "tests.test_get_tensors(get_tensors)"
   ]
  },
  {
   "cell_type": "markdown",
   "metadata": {
    "deletable": true,
    "editable": true
   },
   "source": [
    "### Choose Word\n",
    "Implement the `pick_word()` function to select the next word using `probabilities`."
   ]
  },
  {
   "cell_type": "code",
   "execution_count": 28,
   "metadata": {
    "collapsed": false,
    "deletable": true,
    "editable": true
   },
   "outputs": [
    {
     "name": "stdout",
     "output_type": "stream",
     "text": [
      "Tests Passed\n"
     ]
    }
   ],
   "source": [
    "def pick_word(probabilities, int_to_vocab):\n",
    "    \"\"\"\n",
    "    Pick the next word in the generated text\n",
    "    :param probabilities: Probabilites of the next word\n",
    "    :param int_to_vocab: Dictionary of word ids as the keys and words as the values\n",
    "    :return: String of the predicted word\n",
    "    \"\"\"\n",
    "    max_index = 0\n",
    "    max_prob = 0.0\n",
    "    \n",
    "    for index, prob in enumerate(probabilities):\n",
    "        if (prob > max_prob):\n",
    "            max_prob = prob\n",
    "            max_index = index\n",
    "        \n",
    "    # TODO: Implement Function\n",
    "    return int_to_vocab[max_index]\n",
    "\n",
    "\n",
    "\"\"\"\n",
    "DON'T MODIFY ANYTHING IN THIS CELL THAT IS BELOW THIS LINE\n",
    "\"\"\"\n",
    "tests.test_pick_word(pick_word)"
   ]
  },
  {
   "cell_type": "markdown",
   "metadata": {
    "deletable": true,
    "editable": true
   },
   "source": [
    "## Generate TV Script\n",
    "This will generate the TV script for you.  Set `gen_length` to the length of TV script you want to generate."
   ]
  },
  {
   "cell_type": "code",
   "execution_count": 30,
   "metadata": {
    "collapsed": false,
    "deletable": true,
    "editable": true
   },
   "outputs": [
    {
     "name": "stdout",
     "output_type": "stream",
     "text": [
      "moe_szyslak:(as dentist) okay, this might hurt a little.(as patient, cotton in mouth) no problem.\n",
      "moe_szyslak:(in pain) oh, sweet mother of mary!\n",
      "homer_simpson:(weirded-out noise, then:) okay, milhouse, what do you want to do?\n",
      "milhouse_van_houten: well, the school's having a bake sale.\n",
      "homer_simpson: ol' betsy'll get us there.\n",
      "\n",
      "\n",
      "homer_simpson:(runs in) hey moe, got any milk?\n",
      "moe_szyslak: it's either milk... or paint.\n",
      "homer_simpson:(disappointed) it's paint. or is it?\n",
      "homer_simpson: yeah, it's paint.\n",
      "moe_szyslak: oh. then i'll have to charge ya.\n",
      "barney_gumble: oh, that's sweet. i can think as for the new guy. now homer is a big deal.\n",
      "carl_carlson: yeah, you got it... hey, join the party! it's hearing some pair till you gotta do that?\n",
      "barney_gumble: what'd i won't can flash-fry a risqué(confused) okay, it would pick to buy there-- a time with moe's\" man. no cash out of here me my second c.\" a tiny\n",
      "lenny_leonard: with those so can all a chance in the morning. i wanna just talk to that school, it is even the blowfish?\n",
      "homer_simpson:(beat) the sagacity of a. i got these moe_szyslak: i'm buying a lot of environment as um much comedy... nein...(don't laughing) you're kinda form.\n",
      "grampa_simpson: you'd\n",
      "moe_szyslak: sure.\n",
      "moe_szyslak: my thousand-year got the place of these my dad ever i'm so. i'm uh, i get us.(as cold sign)\n",
      "moe_szyslak:(singing) hello?\n",
      "crowd:(to moe) happily way, homer, i'm so sorry. you're the wacky geysir s.\n",
      "lisa_simpson:(homer_simpson: moe is.(belches)\n",
      "homer_simpson:(sobs) oh, i see your wonderful...(warmly) thanks, fellas... i got a lotta little party than i made my call is me an geysir.\n",
      "\n",
      "\n",
      "homer_simpson: moe. now you all did it for look who makes there could write in his hate less) this, it's you... you... hardwood?\n",
      "moe_szyslak: so to make that happen to your beer, okay.\n",
      "little_man:(sobs) oh, what very stupid.\n",
      "lenny_leonard: just dance with.(to brockman) kirk_van_houten: and the kids.\n",
      "moe_szyslak: okay, is this president-- comes because of like you to america!\"\n",
      "moe_szyslak: whoa, check-- where i used to spit lady moe?\n",
      "moe_szyslak: no. no more. homer, no. frankly, bart, uh, i don't care about your sweet about your friend how let me a...\n",
      "homer_simpson:(sobs) words hurt? uh, and see the beer.\n",
      "lenny_leonard:(quickly)\" business has in clothes!\n",
      "homer_simpson:(tough) no. you're the most might pointing with the car? they're woo thing!\n",
      "moe_szyslak: all right, but it's gonna stop now?\n",
      "moe_szyslak: yeah, who are, one one.\n",
      "barney_gumble: just give a dad-- you yesterday, homer i still just you.\n",
      "carl_carlson: what very can you talking?\n",
      "moe_szyslak: hey, sure.\n",
      "barney_gumble: ya only was tinkle.\n",
      "carl_carlson:(big) huhza?\n",
      "krusty_the_clown:(sighs) what do thank you could know.\n",
      "marge_simpson: here about you. hello, that's seven night.\n",
      "homer_simpson: you mean not come away, quit a fuss thing my daughter the most walk with\" beers?\" uh homer, i'm big while we did something two cool three one thing who. yee-haw!\n",
      "narrator: but that seems long. which.\" to aw to some to so happy?\n",
      "homer_simpson:(excited) my god, guys.(chuckles)\n",
      "c. _montgomery_burns: well,(reading)\" kid, and i'm talkin' about.\n",
      "carl_carlson:(tipsy) in four name today. where i know anything and change you all over.\n",
      "lenny_leonard: that's just either right. i'm so beautiful. god, i gotta get the back of those amazing before.\n",
      "homer_simpson: yes.\n",
      "bart_simpson:(tipsy) man, everyone finale why moe a little wave seven, homer.\n",
      "moe_szyslak: i watch it for that about roomy! the canyonero...\n",
      "homer_simpson: now, okay, ling chow to lindsay naegle) the guy. will they get a name?\n",
      "carl_carlson: oh, here about they can have a beer for a kick-ass lot to return to you. we got a sec, what were my life, i could only drive here homer moe.\n",
      "carl_carlson:(to brockman) eh homer is this night with the sugar.\n",
      "homer_simpson:(to fix her there, sitting of the secret, i'll survive from every one.\n",
      "barney_gumble: a little girl!\n",
      "moe_szyslak: oh, the best book you've got, with your mother is after here, let his glasses can beat something.\n",
      "dr. _kissingher: if right doin' it.\n",
      "bart_simpson:(defensive homer, gee voice) you're right. now, uh...\n",
      "homer_simpson: marge had a black eye?! i need\n"
     ]
    }
   ],
   "source": [
    "gen_length = 1000\n",
    "# homer_simpson, moe_szyslak, or Barney_Gumble\n",
    "prime_word = 'moe_szyslak'\n",
    "\n",
    "\"\"\"\n",
    "DON'T MODIFY ANYTHING IN THIS CELL THAT IS BELOW THIS LINE\n",
    "\"\"\"\n",
    "loaded_graph = tf.Graph()\n",
    "with tf.Session(graph=loaded_graph) as sess:\n",
    "    # Load saved model\n",
    "    loader = tf.train.import_meta_graph(load_dir + '.meta')\n",
    "    loader.restore(sess, load_dir)\n",
    "\n",
    "    # Get Tensors from loaded model\n",
    "    input_text, initial_state, final_state, probs = get_tensors(loaded_graph)\n",
    "\n",
    "    # Sentences generation setup\n",
    "    gen_sentences = [prime_word + ':']\n",
    "    prev_state = sess.run(initial_state, {input_text: np.array([[1]])})\n",
    "\n",
    "    # Generate sentences\n",
    "    for n in range(gen_length):\n",
    "        # Dynamic Input\n",
    "        dyn_input = [[vocab_to_int[word] for word in gen_sentences[-seq_length:]]]\n",
    "        dyn_seq_length = len(dyn_input[0])\n",
    "\n",
    "        # Get Prediction\n",
    "        probabilities, prev_state = sess.run(\n",
    "            [probs, final_state],\n",
    "            {input_text: dyn_input, initial_state: prev_state})\n",
    "        \n",
    "        pred_word = pick_word(probabilities[dyn_seq_length-1], int_to_vocab)\n",
    "\n",
    "        gen_sentences.append(pred_word)\n",
    "    \n",
    "    # Remove tokens\n",
    "    tv_script = ' '.join(gen_sentences)\n",
    "    for key, token in token_dict.items():\n",
    "        ending = ' ' if key in ['\\n', '(', '\"'] else ''\n",
    "        tv_script = tv_script.replace(' ' + token.lower(), key)\n",
    "    tv_script = tv_script.replace('\\n ', '\\n')\n",
    "    tv_script = tv_script.replace('( ', '(')\n",
    "        \n",
    "    print(tv_script)"
   ]
  },
  {
   "cell_type": "markdown",
   "metadata": {
    "deletable": true,
    "editable": true
   },
   "source": [
    "# The TV Script is Nonsensical\n",
    "It's ok if the TV script doesn't make any sense.  We trained on less than a megabyte of text.  In order to get good results, you'll have to use a smaller vocabulary or get more data.  Luckly there's more data!  As we mentioned in the begging of this project, this is a subset of [another dataset](https://www.kaggle.com/wcukierski/the-simpsons-by-the-data).  We didn't have you train on all the data, because that would take too long.  However, you are free to train your neural network on all the data.  After you complete the project, of course.\n",
    "# Submitting This Project\n",
    "When submitting this project, make sure to run all the cells before saving the notebook. Save the notebook file as \"dlnd_tv_script_generation.ipynb\" and save it as a HTML file under \"File\" -> \"Download as\". Include the \"helper.py\" and \"problem_unittests.py\" files in your submission."
   ]
  }
 ],
 "metadata": {
  "anaconda-cloud": {},
  "kernelspec": {
   "display_name": "Python [default]",
   "language": "python",
   "name": "python3"
  },
  "language_info": {
   "codemirror_mode": {
    "name": "ipython",
    "version": 3
   },
   "file_extension": ".py",
   "mimetype": "text/x-python",
   "name": "python",
   "nbconvert_exporter": "python",
   "pygments_lexer": "ipython3",
   "version": "3.5.2"
  }
 },
 "nbformat": 4,
 "nbformat_minor": 0
}
