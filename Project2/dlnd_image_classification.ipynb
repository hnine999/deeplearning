{
 "cells": [
  {
   "cell_type": "markdown",
   "metadata": {
    "collapsed": true,
    "deletable": true,
    "editable": true
   },
   "source": [
    "# Image Classification\n",
    "In this project, you'll classify images from the [CIFAR-10 dataset](https://www.cs.toronto.edu/~kriz/cifar.html).  The dataset consists of airplanes, dogs, cats, and other objects. You'll preprocess the images, then train a convolutional neural network on all the samples. The images need to be normalized and the labels need to be one-hot encoded.  You'll get to apply what you learned and build a convolutional, max pooling, dropout, and fully connected layers.  At the end, you'll get to see your neural network's predictions on the sample images.\n",
    "## Get the Data\n",
    "Run the following cell to download the [CIFAR-10 dataset for python](https://www.cs.toronto.edu/~kriz/cifar-10-python.tar.gz)."
   ]
  },
  {
   "cell_type": "code",
   "execution_count": 12,
   "metadata": {
    "collapsed": false,
    "deletable": true,
    "editable": true
   },
   "outputs": [
    {
     "name": "stderr",
     "output_type": "stream",
     "text": [
      "CIFAR-10 Dataset: 171MB [01:49, 1.56MB/s]                              \n"
     ]
    },
    {
     "name": "stdout",
     "output_type": "stream",
     "text": [
      "All files found!\n"
     ]
    }
   ],
   "source": [
    "\"\"\"\n",
    "DON'T MODIFY ANYTHING IN THIS CELL THAT IS BELOW THIS LINE\n",
    "\"\"\"\n",
    "from urllib.request import urlretrieve\n",
    "from os.path import isfile, isdir\n",
    "from tqdm import tqdm\n",
    "import problem_unittests as tests\n",
    "import tarfile\n",
    "\n",
    "cifar10_dataset_folder_path = 'cifar-10-batches-py'\n",
    "\n",
    "class DLProgress(tqdm):\n",
    "    last_block = 0\n",
    "\n",
    "    def hook(self, block_num=1, block_size=1, total_size=None):\n",
    "        self.total = total_size\n",
    "        self.update((block_num - self.last_block) * block_size)\n",
    "        self.last_block = block_num\n",
    "\n",
    "if not isfile('cifar-10-python.tar.gz'):\n",
    "    with DLProgress(unit='B', unit_scale=True, miniters=1, desc='CIFAR-10 Dataset') as pbar:\n",
    "        urlretrieve(\n",
    "            'https://www.cs.toronto.edu/~kriz/cifar-10-python.tar.gz',\n",
    "            'cifar-10-python.tar.gz',\n",
    "            pbar.hook)\n",
    "\n",
    "if not isdir(cifar10_dataset_folder_path):\n",
    "    with tarfile.open('cifar-10-python.tar.gz') as tar:\n",
    "        tar.extractall()\n",
    "        tar.close()\n",
    "\n",
    "\n",
    "tests.test_folder_path(cifar10_dataset_folder_path)"
   ]
  },
  {
   "cell_type": "markdown",
   "metadata": {
    "deletable": true,
    "editable": true
   },
   "source": [
    "## Explore the Data\n",
    "The dataset is broken into batches to prevent your machine from running out of memory.  The CIFAR-10 dataset consists of 5 batches, named `data_batch_1`, `data_batch_2`, etc.. Each batch contains the labels and images that are one of the following:\n",
    "* airplane\n",
    "* automobile\n",
    "* bird\n",
    "* cat\n",
    "* deer\n",
    "* dog\n",
    "* frog\n",
    "* horse\n",
    "* ship\n",
    "* truck\n",
    "\n",
    "Understanding a dataset is part of making predictions on the data.  Play around with the code cell below by changing the `batch_id` and `sample_id`. The `batch_id` is the id for a batch (1-5). The `sample_id` is the id for a image and label pair in the batch.\n",
    "\n",
    "Ask yourself \"What are all possible labels?\", \"What is the range of values for the image data?\", \"Are the labels in order or random?\".  Answers to questions like these will help you preprocess the data and end up with better predictions."
   ]
  },
  {
   "cell_type": "code",
   "execution_count": 27,
   "metadata": {
    "collapsed": false,
    "deletable": true,
    "editable": true
   },
   "outputs": [
    {
     "name": "stdout",
     "output_type": "stream",
     "text": [
      "\n",
      "Stats of batch 1:\n",
      "Samples: 10000\n",
      "Label Counts: {0: 1005, 1: 974, 2: 1032, 3: 1016, 4: 999, 5: 937, 6: 1030, 7: 1001, 8: 1025, 9: 981}\n",
      "First 20 Labels: [6, 9, 9, 4, 1, 1, 2, 7, 8, 3, 4, 7, 7, 2, 9, 9, 9, 3, 2, 6]\n",
      "\n",
      "Example of Image 24:\n",
      "Image - Min Value: 5 Max Value: 248\n",
      "Image - Shape: (32, 32, 3)\n",
      "Label - Label Id: 2 Name: bird\n"
     ]
    },
    {
     "data": {
      "image/png": "[encoded data removed]",
      "text/plain": [
       "<matplotlib.figure.Figure at 0x121a032b0>"
      ]
     },
     "metadata": {
      "image/png": {
       "height": 250,
       "width": 253
      }
     },
     "output_type": "display_data"
    }
   ],
   "source": [
    "%matplotlib inline\n",
    "%config InlineBackend.figure_format = 'retina'\n",
    "\n",
    "import helper\n",
    "import numpy as np\n",
    "\n",
    "# Explore the dataset\n",
    "batch_id = 1\n",
    "sample_id = 24\n",
    "helper.display_stats(cifar10_dataset_folder_path, batch_id, sample_id)"
   ]
  },
  {
   "cell_type": "markdown",
   "metadata": {
    "deletable": true,
    "editable": true
   },
   "source": [
    "## Implement Preprocess Functions\n",
    "### Normalize\n",
    "In the cell below, implement the `normalize` function to take in image data, `x`, and return it as a normalized Numpy array. The values should be in the range of 0 to 1, inclusive.  The return object should be the same shape as `x`."
   ]
  },
  {
   "cell_type": "code",
   "execution_count": 30,
   "metadata": {
    "collapsed": false,
    "deletable": true,
    "editable": true
   },
   "outputs": [
    {
     "name": "stdout",
     "output_type": "stream",
     "text": [
      "Tests Passed\n"
     ]
    }
   ],
   "source": [
    "def normalize(x):\n",
    "    \"\"\"\n",
    "    Normalize a list of sample image data in the range of 0 to 1\n",
    "    : x: List of image data.  The image shape is (32, 32, 3)\n",
    "    : return: Numpy array of normalize data\n",
    "    \"\"\"\n",
    "    # TODO: Implement Function\n",
    "    return np.array(x).reshape(-1,32,32,3) / 255.0\n",
    "\n",
    "\n",
    "\"\"\"\n",
    "DON'T MODIFY ANYTHING IN THIS CELL THAT IS BELOW THIS LINE\n",
    "\"\"\"\n",
    "tests.test_normalize(normalize)"
   ]
  },
  {
   "cell_type": "markdown",
   "metadata": {
    "deletable": true,
    "editable": true
   },
   "source": [
    "### One-hot encode\n",
    "Just like the previous code cell, you'll be implementing a function for preprocessing.  This time, you'll implement the `one_hot_encode` function. The input, `x`, are a list of labels.  Implement the function to return the list of labels as One-Hot encoded Numpy array.  The possible values for labels are 0 to 9. The one-hot encoding function should return the same encoding for each value between each call to `one_hot_encode`.  Make sure to save the map of encodings outside the function.\n",
    "\n",
    "Hint: Don't reinvent the wheel."
   ]
  },
  {
   "cell_type": "code",
   "execution_count": 32,
   "metadata": {
    "collapsed": false,
    "deletable": true,
    "editable": true
   },
   "outputs": [
    {
     "name": "stdout",
     "output_type": "stream",
     "text": [
      "Tests Passed\n"
     ]
    }
   ],
   "source": [
    "def one_hot_encode(x):\n",
    "    \"\"\"\n",
    "    One hot encode a list of sample labels. Return a one-hot encoded vector for each label.\n",
    "    : x: List of sample Labels\n",
    "    : return: Numpy array of one-hot encoded labels\n",
    "    \"\"\"\n",
    "    num_values = len(x)\n",
    "    retval = np.zeros([num_values, np.max(x) + 1])\n",
    "    retval[np.arange(num_values),x] = 1\n",
    "    return retval\n",
    "\n",
    "\n",
    "\"\"\"\n",
    "DON'T MODIFY ANYTHING IN THIS CELL THAT IS BELOW THIS LINE\n",
    "\"\"\"\n",
    "tests.test_one_hot_encode(one_hot_encode)"
   ]
  },
  {
   "cell_type": "markdown",
   "metadata": {
    "deletable": true,
    "editable": true
   },
   "source": [
    "### Randomize Data\n",
    "As you saw from exploring the data above, the order of the samples are randomized.  It doesn't hurt to randomize it again, but you don't need to for this dataset."
   ]
  },
  {
   "cell_type": "markdown",
   "metadata": {
    "deletable": true,
    "editable": true
   },
   "source": [
    "## Preprocess all the data and save it\n",
    "Running the code cell below will preprocess all the CIFAR-10 data and save it to file. The code below also uses 10% of the training data for validation."
   ]
  },
  {
   "cell_type": "code",
   "execution_count": 33,
   "metadata": {
    "collapsed": false,
    "deletable": true,
    "editable": true
   },
   "outputs": [],
   "source": [
    "\"\"\"\n",
    "DON'T MODIFY ANYTHING IN THIS CELL\n",
    "\"\"\"\n",
    "# Preprocess Training, Validation, and Testing Data\n",
    "helper.preprocess_and_save_data(cifar10_dataset_folder_path, normalize, one_hot_encode)"
   ]
  },
  {
   "cell_type": "markdown",
   "metadata": {
    "deletable": true,
    "editable": true
   },
   "source": [
    "# Check Point\n",
    "This is your first checkpoint.  If you ever decide to come back to this notebook or have to restart the notebook, you can start from here.  The preprocessed data has been saved to disk."
   ]
  },
  {
   "cell_type": "code",
   "execution_count": 1,
   "metadata": {
    "collapsed": false,
    "deletable": true,
    "editable": true
   },
   "outputs": [
    {
     "name": "stderr",
     "output_type": "stream",
     "text": [
      "/home/carnd/anaconda3/lib/python3.5/site-packages/matplotlib/font_manager.py:273: UserWarning: Matplotlib is building the font cache using fc-list. This may take a moment.\n",
      "  warnings.warn('Matplotlib is building the font cache using fc-list. This may take a moment.')\n",
      "/home/carnd/anaconda3/lib/python3.5/site-packages/matplotlib/font_manager.py:273: UserWarning: Matplotlib is building the font cache using fc-list. This may take a moment.\n",
      "  warnings.warn('Matplotlib is building the font cache using fc-list. This may take a moment.')\n"
     ]
    }
   ],
   "source": [
    "\"\"\"\n",
    "DON'T MODIFY ANYTHING IN THIS CELL\n",
    "\"\"\"\n",
    "import pickle\n",
    "import problem_unittests as tests\n",
    "import helper\n",
    "import numpy as np\n",
    "\n",
    "# Load the Preprocessed Validation data\n",
    "valid_features, valid_labels = pickle.load(open('preprocess_validation.p', mode='rb'))"
   ]
  },
  {
   "cell_type": "markdown",
   "metadata": {
    "deletable": true,
    "editable": true
   },
   "source": [
    "## Build the network\n",
    "For the neural network, you'll build each layer into a function.  Most of the code you've seen has been outside of functions. To test your code more thoroughly, we require that you put each layer in a function.  This allows us to give you better feedback and test for simple mistakes using our unittests before you submit your project.\n",
    "\n",
    ">**Note:** If you're finding it hard to dedicate enough time for this course each week, we've provided a small shortcut to this part of the project. In the next couple of problems, you'll have the option to use classes from the [TensorFlow Layers](https://www.tensorflow.org/api_docs/python/tf/layers) or [TensorFlow Layers (contrib)](https://www.tensorflow.org/api_guides/python/contrib.layers) packages to build each layer, except the layers you build in the \"Convolutional and Max Pooling Layer\" section.  TF Layers is similar to Keras's and TFLearn's abstraction to layers, so it's easy to pickup.\n",
    "\n",
    ">However, if you would like to get the most out of this course, try to solve all the problems _without_ using anything from the TF Layers packages. You **can** still use classes from other packages that happen to have the same name as ones you find in TF Layers! For example, instead of using the TF Layers version of the `conv2d` class, [tf.layers.conv2d](https://www.tensorflow.org/api_docs/python/tf/layers/conv2d), you would want to use the TF Neural Network version of `conv2d`, [tf.nn.conv2d](https://www.tensorflow.org/api_docs/python/tf/nn/conv2d). \n",
    "\n",
    "Let's begin!\n",
    "\n",
    "### Input\n",
    "The neural network needs to read the image data, one-hot encoded labels, and dropout keep probability. Implement the following functions\n",
    "* Implement `neural_net_image_input`\n",
    " * Return a [TF Placeholder](https://www.tensorflow.org/api_docs/python/tf/placeholder)\n",
    " * Set the shape using `image_shape` with batch size set to `None`.\n",
    " * Name the TensorFlow placeholder \"x\" using the TensorFlow `name` parameter in the [TF Placeholder](https://www.tensorflow.org/api_docs/python/tf/placeholder).\n",
    "* Implement `neural_net_label_input`\n",
    " * Return a [TF Placeholder](https://www.tensorflow.org/api_docs/python/tf/placeholder)\n",
    " * Set the shape using `n_classes` with batch size set to `None`.\n",
    " * Name the TensorFlow placeholder \"y\" using the TensorFlow `name` parameter in the [TF Placeholder](https://www.tensorflow.org/api_docs/python/tf/placeholder).\n",
    "* Implement `neural_net_keep_prob_input`\n",
    " * Return a [TF Placeholder](https://www.tensorflow.org/api_docs/python/tf/placeholder) for dropout keep probability.\n",
    " * Name the TensorFlow placeholder \"keep_prob\" using the TensorFlow `name` parameter in the [TF Placeholder](https://www.tensorflow.org/api_docs/python/tf/placeholder).\n",
    "\n",
    "These names will be used at the end of the project to load your saved model.\n",
    "\n",
    "Note: `None` for shapes in TensorFlow allow for a dynamic size."
   ]
  },
  {
   "cell_type": "code",
   "execution_count": 2,
   "metadata": {
    "collapsed": false,
    "deletable": true,
    "editable": true
   },
   "outputs": [
    {
     "name": "stdout",
     "output_type": "stream",
     "text": [
      "Image Input Tests Passed.\n",
      "Label Input Tests Passed.\n",
      "Keep Prob Tests Passed.\n"
     ]
    }
   ],
   "source": [
    "import tensorflow as tf\n",
    "\n",
    "def neural_net_image_input(image_shape):\n",
    "    \"\"\"\n",
    "    Return a Tensor for a batch of image input\n",
    "    : image_shape: Shape of the images\n",
    "    : return: Tensor for image input.\n",
    "    \"\"\"\n",
    "    # TODO: Implement Function\n",
    "    shape = list(image_shape)\n",
    "    shape.insert(0, None)\n",
    "    return tf.placeholder(tf.float32, shape=shape, name='x')\n",
    "\n",
    "\n",
    "def neural_net_label_input(n_classes):\n",
    "    \"\"\"\n",
    "    Return a Tensor for a batch of label input\n",
    "    : n_classes: Number of classes\n",
    "    : return: Tensor for label input.\n",
    "    \"\"\"\n",
    "    # TODO: Implement Function\n",
    "    return tf.placeholder(tf.float32, shape=[None, n_classes], name='y')\n",
    "\n",
    "\n",
    "def neural_net_keep_prob_input():\n",
    "    \"\"\"\n",
    "    Return a Tensor for keep probability\n",
    "    : return: Tensor for keep probability.\n",
    "    \"\"\"\n",
    "    # TODO: Implement Function\n",
    "    return tf.placeholder(tf.float32, name='keep_prob')\n",
    "\n",
    "\n",
    "\"\"\"\n",
    "DON'T MODIFY ANYTHING IN THIS CELL THAT IS BELOW THIS LINE\n",
    "\"\"\"\n",
    "tf.reset_default_graph()\n",
    "tests.test_nn_image_inputs(neural_net_image_input)\n",
    "tests.test_nn_label_inputs(neural_net_label_input)\n",
    "tests.test_nn_keep_prob_inputs(neural_net_keep_prob_input)"
   ]
  },
  {
   "cell_type": "markdown",
   "metadata": {
    "deletable": true,
    "editable": true
   },
   "source": [
    "### Convolution and Max Pooling Layer\n",
    "Convolution layers have a lot of success with images. For this code cell, you should implement the function `conv2d_maxpool` to apply convolution then max pooling:\n",
    "* Create the weight and bias using `conv_ksize`, `conv_num_outputs` and the shape of `x_tensor`.\n",
    "* Apply a convolution to `x_tensor` using weight and `conv_strides`.\n",
    " * We recommend you use same padding, but you're welcome to use any padding.\n",
    "* Add bias\n",
    "* Add a nonlinear activation to the convolution.\n",
    "* Apply Max Pooling using `pool_ksize` and `pool_strides`.\n",
    " * We recommend you use same padding, but you're welcome to use any padding.\n",
    "\n",
    "**Note:** You **can't** use [TensorFlow Layers](https://www.tensorflow.org/api_docs/python/tf/layers) or [TensorFlow Layers (contrib)](https://www.tensorflow.org/api_guides/python/contrib.layers) for **this** layer, but you can still use TensorFlow's [Neural Network](https://www.tensorflow.org/api_docs/python/tf/nn) package. You may still use the shortcut option for all the **other** layers."
   ]
  },
  {
   "cell_type": "code",
   "execution_count": 3,
   "metadata": {
    "collapsed": false,
    "deletable": true,
    "editable": true
   },
   "outputs": [
    {
     "name": "stdout",
     "output_type": "stream",
     "text": [
      "Tests Passed\n"
     ]
    }
   ],
   "source": [
    "def conv2d_maxpool(x_tensor, conv_num_outputs, conv_ksize, conv_strides, pool_ksize, pool_strides):\n",
    "    \"\"\"\n",
    "    Apply convolution then max pooling to x_tensor\n",
    "    :param x_tensor: TensorFlow Tensor\n",
    "    :param conv_num_outputs: Number of outputs for the convolutional layer\n",
    "    :param conv_ksize: kernal size 2-D Tuple for the convolutional layer\n",
    "    :param conv_strides: Stride 2-D Tuple for convolution\n",
    "    :param pool_ksize: kernal size 2-D Tuple for pool\n",
    "    :param pool_strides: Stride 2-D Tuple for pool\n",
    "    : return: A tensor that represents convolution and max pooling of x_tensor\n",
    "    \"\"\"\n",
    "    # TODO: Implement Function\n",
    "    input_depth = x_tensor.get_shape().as_list()[-1]\n",
    "    no_inputs = conv_ksize[0] * conv_ksize[1] * input_depth\n",
    "    no_outputs = conv_num_outputs\n",
    "    weights = tf.Variable(\n",
    "        tf.truncated_normal(\n",
    "            [conv_ksize[0], conv_ksize[1], input_depth, conv_num_outputs],\n",
    "            stddev=(3.0/(no_inputs + no_outputs))\n",
    "        )\n",
    "    )\n",
    "    biases = tf.Variable(tf.zeros([conv_num_outputs]))\n",
    "    \n",
    "    conv_layer = tf.nn.conv2d(x_tensor, weights, [1, conv_strides[0], conv_strides[1], 1], padding='SAME')\n",
    "    conv_layer = tf.nn.bias_add(conv_layer, biases)\n",
    "    conv_layer = tf.nn.relu(conv_layer)\n",
    "    \n",
    "    pool_layer = tf.nn.max_pool(conv_layer, [1, pool_ksize[0], pool_ksize[1], 1], [1, pool_strides[0], pool_strides[1], 1], padding='VALID')\n",
    "    \n",
    "    return pool_layer \n",
    "\n",
    "\n",
    "\"\"\"\n",
    "DON'T MODIFY ANYTHING IN THIS CELL THAT IS BELOW THIS LINE\n",
    "\"\"\"\n",
    "tests.test_con_pool(conv2d_maxpool)"
   ]
  },
  {
   "cell_type": "markdown",
   "metadata": {
    "deletable": true,
    "editable": true
   },
   "source": [
    "### Flatten Layer\n",
    "Implement the `flatten` function to change the dimension of `x_tensor` from a 4-D tensor to a 2-D tensor.  The output should be the shape (*Batch Size*, *Flattened Image Size*). Shortcut option: you can use classes from the [TensorFlow Layers](https://www.tensorflow.org/api_docs/python/tf/layers) or [TensorFlow Layers (contrib)](https://www.tensorflow.org/api_guides/python/contrib.layers) packages for this layer. For more of a challenge, only use other TensorFlow packages."
   ]
  },
  {
   "cell_type": "code",
   "execution_count": 4,
   "metadata": {
    "collapsed": false,
    "deletable": true,
    "editable": true
   },
   "outputs": [
    {
     "name": "stdout",
     "output_type": "stream",
     "text": [
      "Tests Passed\n"
     ]
    }
   ],
   "source": [
    "def flatten(x_tensor):\n",
    "    \"\"\"\n",
    "    Flatten x_tensor to (Batch Size, Flattened Image Size)\n",
    "    : x_tensor: A tensor of size (Batch Size, ...), where ... are the image dimensions.\n",
    "    : return: A tensor of size (Batch Size, Flattened Image Size).\n",
    "    \"\"\"\n",
    "    # TODO: Implement Function\n",
    "    shape = x_tensor.get_shape().as_list()\n",
    "    dim = np.prod(shape[1:])\n",
    "    return tf.reshape(x_tensor, [-1, dim])\n",
    "\n",
    "\n",
    "\"\"\"\n",
    "DON'T MODIFY ANYTHING IN THIS CELL THAT IS BELOW THIS LINE\n",
    "\"\"\"\n",
    "tests.test_flatten(flatten)"
   ]
  },
  {
   "cell_type": "markdown",
   "metadata": {
    "deletable": true,
    "editable": true
   },
   "source": [
    "### Fully-Connected Layer\n",
    "Implement the `fully_conn` function to apply a fully connected layer to `x_tensor` with the shape (*Batch Size*, *num_outputs*). Shortcut option: you can use classes from the [TensorFlow Layers](https://www.tensorflow.org/api_docs/python/tf/layers) or [TensorFlow Layers (contrib)](https://www.tensorflow.org/api_guides/python/contrib.layers) packages for this layer. For more of a challenge, only use other TensorFlow packages."
   ]
  },
  {
   "cell_type": "code",
   "execution_count": 5,
   "metadata": {
    "collapsed": false,
    "deletable": true,
    "editable": true
   },
   "outputs": [
    {
     "name": "stdout",
     "output_type": "stream",
     "text": [
      "Tests Passed\n"
     ]
    }
   ],
   "source": [
    "def fully_conn(x_tensor, num_outputs):\n",
    "    \"\"\"\n",
    "    Apply a fully connected layer to x_tensor using weight and bias\n",
    "    : x_tensor: A 2-D tensor where the first dimension is batch size.\n",
    "    : num_outputs: The number of output that the new tensor should be.\n",
    "    : return: A 2-D tensor where the second dimension is num_outputs.\n",
    "    \"\"\"\n",
    "    dim = x_tensor.get_shape().as_list()[-1]\n",
    "    weights = tf.Variable(tf.truncated_normal([dim, num_outputs], stddev=(3.0/(dim + num_outputs))))\n",
    "    biases = tf.Variable(tf.zeros([num_outputs]))\n",
    "    return tf.nn.relu(tf.add(tf.matmul(x_tensor, weights), biases))\n",
    "\n",
    "\n",
    "\"\"\"\n",
    "DON'T MODIFY ANYTHING IN THIS CELL THAT IS BELOW THIS LINE\n",
    "\"\"\"\n",
    "tests.test_fully_conn(fully_conn)"
   ]
  },
  {
   "cell_type": "markdown",
   "metadata": {
    "deletable": true,
    "editable": true
   },
   "source": [
    "### Output Layer\n",
    "Implement the `output` function to apply a fully connected layer to `x_tensor` with the shape (*Batch Size*, *num_outputs*). Shortcut option: you can use classes from the [TensorFlow Layers](https://www.tensorflow.org/api_docs/python/tf/layers) or [TensorFlow Layers (contrib)](https://www.tensorflow.org/api_guides/python/contrib.layers) packages for this layer. For more of a challenge, only use other TensorFlow packages.\n",
    "\n",
    "**Note:** Activation, softmax, or cross entropy should **not** be applied to this."
   ]
  },
  {
   "cell_type": "code",
   "execution_count": 6,
   "metadata": {
    "collapsed": false,
    "deletable": true,
    "editable": true
   },
   "outputs": [
    {
     "name": "stdout",
     "output_type": "stream",
     "text": [
      "Tests Passed\n"
     ]
    }
   ],
   "source": [
    "def output(x_tensor, num_outputs):\n",
    "    \"\"\"\n",
    "    Apply a output layer to x_tensor using weight and bias\n",
    "    : x_tensor: A 2-D tensor where the first dimension is batch size.\n",
    "    : num_outputs: The number of output that the new tensor should be.\n",
    "    : return: A 2-D tensor where the second dimension is num_outputs.\n",
    "    \"\"\"\n",
    "    # TODO: Implement Function\n",
    "    dim = x_tensor.get_shape().as_list()[-1]\n",
    "    weights = tf.Variable(tf.truncated_normal([dim, num_outputs], stddev=(3.0/(dim + num_outputs))))\n",
    "    biases = tf.Variable(tf.zeros([num_outputs]))\n",
    "    return tf.add(tf.matmul(x_tensor, weights), biases)\n",
    "\n",
    "\n",
    "\"\"\"\n",
    "DON'T MODIFY ANYTHING IN THIS CELL THAT IS BELOW THIS LINE\n",
    "\"\"\"\n",
    "tests.test_output(output)"
   ]
  },
  {
   "cell_type": "markdown",
   "metadata": {
    "deletable": true,
    "editable": true
   },
   "source": [
    "### Create Convolutional Model\n",
    "Implement the function `conv_net` to create a convolutional neural network model. The function takes in a batch of images, `x`, and outputs logits.  Use the layers you created above to create this model:\n",
    "\n",
    "* Apply 1, 2, or 3 Convolution and Max Pool layers\n",
    "* Apply a Flatten Layer\n",
    "* Apply 1, 2, or 3 Fully Connected Layers\n",
    "* Apply an Output Layer\n",
    "* Return the output\n",
    "* Apply [TensorFlow's Dropout](https://www.tensorflow.org/api_docs/python/tf/nn/dropout) to one or more layers in the model using `keep_prob`. "
   ]
  },
  {
   "cell_type": "code",
   "execution_count": 7,
   "metadata": {
    "collapsed": false,
    "deletable": true,
    "editable": true
   },
   "outputs": [
    {
     "name": "stdout",
     "output_type": "stream",
     "text": [
      "Neural Network Built!\n"
     ]
    }
   ],
   "source": [
    "def conv_net(x, keep_prob):\n",
    "    \"\"\"\n",
    "    Create a convolutional neural network model\n",
    "    : x: Placeholder tensor that holds image data.\n",
    "    : keep_prob: Placeholder tensor that hold dropout keep probability.\n",
    "    : return: Tensor that represents logits\n",
    "    \"\"\"\n",
    "    # TODO: Apply 1, 2, or 3 Convolution and Max Pool layers\n",
    "    #    Play around with different number of outputs, kernel size and stride\n",
    "    # Function Definition from Above:\n",
    "    #    conv2d_maxpool(x_tensor, conv_num_outputs, conv_ksize, conv_strides, pool_ksize, pool_strides)\n",
    "    conv_ksize = [3, 3]\n",
    "    conv_strides = [1, 1]\n",
    "    pool_ks = [2,2]\n",
    "    \n",
    "    x_tensor = conv2d_maxpool(x, 32, conv_ksize, conv_strides, conv_strides, conv_strides)\n",
    "    x_tensor = conv2d_maxpool(x_tensor, 64, conv_ksize, conv_strides,pool_ks, pool_ks)\n",
    "    x_tensor = conv2d_maxpool(x_tensor, 128, conv_ksize, conv_strides,pool_ks, pool_ks)\n",
    "\n",
    "    # TODO: Apply a Flatten Layer\n",
    "    # Function Definition from Above:\n",
    "    #   flatten(x_tensor)\n",
    "    x_tensor = flatten(x_tensor)\n",
    "\n",
    "    # TODO: Apply 1, 2, or 3 Fully Connected Layers\n",
    "    #    Play around with different number of outputs\n",
    "    # Function Definition from Above:\n",
    "    #   fully_conn(x_tensor, num_outputs)\n",
    "    x_tensor = fully_conn(x_tensor, 80)\n",
    "    x_tensor = fully_conn(x_tensor, 40)\n",
    "    x_tensor = fully_conn(x_tensor, 20)\n",
    "    x_tensor = tf.nn.dropout(x_tensor, keep_prob)\n",
    "    \n",
    "    # TODO: Apply an Output Layer\n",
    "    #    Set this to the number of classes\n",
    "    # Function Definition from Above:\n",
    "    #   output(x_tensor, num_outputs)\n",
    "    x_tensor = output(x_tensor, 10)\n",
    "    \n",
    "    # TODO: return output\n",
    "    return x_tensor\n",
    "\n",
    "\n",
    "\"\"\"\n",
    "DON'T MODIFY ANYTHING IN THIS CELL THAT IS BELOW THIS LINE\n",
    "\"\"\"\n",
    "\n",
    "##############################\n",
    "## Build the Neural Network ##\n",
    "##############################\n",
    "\n",
    "# Remove previous weights, bias, inputs, etc..\n",
    "tf.reset_default_graph()\n",
    "\n",
    "# Inputs\n",
    "x = neural_net_image_input((32, 32, 3))\n",
    "y = neural_net_label_input(10)\n",
    "keep_prob = neural_net_keep_prob_input()\n",
    "\n",
    "# Model\n",
    "logits = conv_net(x, keep_prob)\n",
    "\n",
    "# Name logits Tensor, so that is can be loaded from disk after training\n",
    "logits = tf.identity(logits, name='logits')\n",
    "\n",
    "# Loss and Optimizer\n",
    "cost = tf.reduce_mean(tf.nn.softmax_cross_entropy_with_logits(logits=logits, labels=y))\n",
    "optimizer = tf.train.AdamOptimizer().minimize(cost)\n",
    "\n",
    "# Accuracy\n",
    "correct_pred = tf.equal(tf.argmax(logits, 1), tf.argmax(y, 1))\n",
    "accuracy = tf.reduce_mean(tf.cast(correct_pred, tf.float32), name='accuracy')\n",
    "\n",
    "tests.test_conv_net(conv_net)"
   ]
  },
  {
   "cell_type": "markdown",
   "metadata": {
    "deletable": true,
    "editable": true
   },
   "source": [
    "## Train the Neural Network\n",
    "### Single Optimization\n",
    "Implement the function `train_neural_network` to do a single optimization.  The optimization should use `optimizer` to optimize in `session` with a `feed_dict` of the following:\n",
    "* `x` for image input\n",
    "* `y` for labels\n",
    "* `keep_prob` for keep probability for dropout\n",
    "\n",
    "This function will be called for each batch, so `tf.global_variables_initializer()` has already been called.\n",
    "\n",
    "Note: Nothing needs to be returned. This function is only optimizing the neural network."
   ]
  },
  {
   "cell_type": "code",
   "execution_count": 8,
   "metadata": {
    "collapsed": false,
    "deletable": true,
    "editable": true
   },
   "outputs": [
    {
     "name": "stdout",
     "output_type": "stream",
     "text": [
      "Tests Passed\n"
     ]
    }
   ],
   "source": [
    "def train_neural_network(session, optimizer, keep_probability, feature_batch, label_batch):\n",
    "    \"\"\"\n",
    "    Optimize the session on a batch of images and labels\n",
    "    : session: Current TensorFlow session\n",
    "    : optimizer: TensorFlow optimizer function\n",
    "    : keep_probability: keep probability\n",
    "    : feature_batch: Batch of Numpy image data\n",
    "    : label_batch: Batch of Numpy label data\n",
    "    \"\"\"\n",
    "    session.run(optimizer, feed_dict={ x : feature_batch, y : label_batch, keep_prob : keep_probability })\n",
    "    \n",
    "    # TODO: Implement Function\n",
    "\n",
    "\n",
    "\"\"\"\n",
    "DON'T MODIFY ANYTHING IN THIS CELL THAT IS BELOW THIS LINE\n",
    "\"\"\"\n",
    "tests.test_train_nn(train_neural_network)"
   ]
  },
  {
   "cell_type": "markdown",
   "metadata": {
    "deletable": true,
    "editable": true
   },
   "source": [
    "### Show Stats\n",
    "Implement the function `print_stats` to print loss and validation accuracy.  Use the global variables `valid_features` and `valid_labels` to calculate validation accuracy.  Use a keep probability of `1.0` to calculate the loss and validation accuracy."
   ]
  },
  {
   "cell_type": "code",
   "execution_count": 9,
   "metadata": {
    "collapsed": false,
    "deletable": true,
    "editable": true
   },
   "outputs": [],
   "source": [
    "def print_stats(session, feature_batch, label_batch, cost, accuracy):\n",
    "    \"\"\"\n",
    "    Print information about loss and validation accuracy\n",
    "    : session: Current TensorFlow session\n",
    "    : feature_batch: Batch of Numpy image data\n",
    "    : label_batch: Batch of Numpy label data\n",
    "    : cost: TensorFlow cost function\n",
    "    : accuracy: TensorFlow accuracy function\n",
    "    \"\"\"\n",
    "    # TODO: Implement Function\n",
    "    current_cost = session.run(cost, feed_dict = { x : feature_batch, y : label_batch, keep_prob : 1.0 })\n",
    "    current_accuracy = session.run(accuracy, feed_dict = { x : valid_features, y : valid_labels, keep_prob : 1.0 })\n",
    "    \n",
    "    print('Cost: {:<8.3} Accuracy: {:<5.3}'.format(\n",
    "            current_cost,\n",
    "            current_accuracy\n",
    "        ))"
   ]
  },
  {
   "cell_type": "markdown",
   "metadata": {
    "deletable": true,
    "editable": true
   },
   "source": [
    "### Hyperparameters\n",
    "Tune the following parameters:\n",
    "* Set `epochs` to the number of iterations until the network stops learning or start overfitting\n",
    "* Set `batch_size` to the highest number that your machine has memory for.  Most people set them to common sizes of memory:\n",
    " * 64\n",
    " * 128\n",
    " * 256\n",
    " * ...\n",
    "* Set `keep_probability` to the probability of keeping a node using dropout"
   ]
  },
  {
   "cell_type": "code",
   "execution_count": 10,
   "metadata": {
    "collapsed": true,
    "deletable": true,
    "editable": true
   },
   "outputs": [],
   "source": [
    "# TODO: Tune Parameters\n",
    "epochs = 50\n",
    "batch_size = 128\n",
    "keep_probability = 0.5"
   ]
  },
  {
   "cell_type": "markdown",
   "metadata": {
    "deletable": true,
    "editable": true
   },
   "source": [
    "### Train on a Single CIFAR-10 Batch\n",
    "Instead of training the neural network on all the CIFAR-10 batches of data, let's use a single batch. This should save time while you iterate on the model to get a better accuracy.  Once the final validation accuracy is 50% or greater, run the model on all the data in the next section."
   ]
  },
  {
   "cell_type": "code",
   "execution_count": 11,
   "metadata": {
    "collapsed": false,
    "deletable": true,
    "editable": true
   },
   "outputs": [
    {
     "name": "stdout",
     "output_type": "stream",
     "text": [
      "Checking the Training on a Single Batch...\n",
      "Epoch  1, CIFAR-10 Batch 1:  Cost: 2.25     Accuracy: 0.166\n",
      "Epoch  2, CIFAR-10 Batch 1:  Cost: 2.15     Accuracy: 0.245\n",
      "Epoch  3, CIFAR-10 Batch 1:  Cost: 2.18     Accuracy: 0.253\n",
      "Epoch  4, CIFAR-10 Batch 1:  Cost: 2.24     Accuracy: 0.227\n",
      "Epoch  5, CIFAR-10 Batch 1:  Cost: 2.13     Accuracy: 0.299\n",
      "Epoch  6, CIFAR-10 Batch 1:  Cost: 2.12     Accuracy: 0.304\n",
      "Epoch  7, CIFAR-10 Batch 1:  Cost: 2.02     Accuracy: 0.331\n",
      "Epoch  8, CIFAR-10 Batch 1:  Cost: 2.02     Accuracy: 0.326\n",
      "Epoch  9, CIFAR-10 Batch 1:  Cost: 1.99     Accuracy: 0.359\n",
      "Epoch 10, CIFAR-10 Batch 1:  Cost: 1.95     Accuracy: 0.36 \n",
      "Epoch 11, CIFAR-10 Batch 1:  Cost: 1.95     Accuracy: 0.381\n",
      "Epoch 12, CIFAR-10 Batch 1:  Cost: 1.93     Accuracy: 0.39 \n",
      "Epoch 13, CIFAR-10 Batch 1:  Cost: 1.84     Accuracy: 0.389\n",
      "Epoch 14, CIFAR-10 Batch 1:  Cost: 1.76     Accuracy: 0.394\n",
      "Epoch 15, CIFAR-10 Batch 1:  Cost: 1.7      Accuracy: 0.409\n",
      "Epoch 16, CIFAR-10 Batch 1:  Cost: 1.67     Accuracy: 0.405\n",
      "Epoch 17, CIFAR-10 Batch 1:  Cost: 1.54     Accuracy: 0.411\n",
      "Epoch 18, CIFAR-10 Batch 1:  Cost: 1.53     Accuracy: 0.406\n",
      "Epoch 19, CIFAR-10 Batch 1:  Cost: 1.47     Accuracy: 0.431\n",
      "Epoch 20, CIFAR-10 Batch 1:  Cost: 1.39     Accuracy: 0.425\n",
      "Epoch 21, CIFAR-10 Batch 1:  Cost: 1.36     Accuracy: 0.44 \n",
      "Epoch 22, CIFAR-10 Batch 1:  Cost: 1.26     Accuracy: 0.45 \n",
      "Epoch 23, CIFAR-10 Batch 1:  Cost: 1.26     Accuracy: 0.452\n",
      "Epoch 24, CIFAR-10 Batch 1:  Cost: 1.22     Accuracy: 0.465\n",
      "Epoch 25, CIFAR-10 Batch 1:  Cost: 1.17     Accuracy: 0.458\n",
      "Epoch 26, CIFAR-10 Batch 1:  Cost: 1.13     Accuracy: 0.469\n",
      "Epoch 27, CIFAR-10 Batch 1:  Cost: 1.08     Accuracy: 0.471\n",
      "Epoch 28, CIFAR-10 Batch 1:  Cost: 1.08     Accuracy: 0.471\n",
      "Epoch 29, CIFAR-10 Batch 1:  Cost: 1.09     Accuracy: 0.446\n",
      "Epoch 30, CIFAR-10 Batch 1:  Cost: 1.05     Accuracy: 0.444\n",
      "Epoch 31, CIFAR-10 Batch 1:  Cost: 0.921    Accuracy: 0.47 \n",
      "Epoch 32, CIFAR-10 Batch 1:  Cost: 0.818    Accuracy: 0.48 \n",
      "Epoch 33, CIFAR-10 Batch 1:  Cost: 0.792    Accuracy: 0.479\n",
      "Epoch 34, CIFAR-10 Batch 1:  Cost: 0.812    Accuracy: 0.475\n",
      "Epoch 35, CIFAR-10 Batch 1:  Cost: 0.799    Accuracy: 0.461\n",
      "Epoch 36, CIFAR-10 Batch 1:  Cost: 0.85     Accuracy: 0.441\n",
      "Epoch 37, CIFAR-10 Batch 1:  Cost: 0.802    Accuracy: 0.469\n",
      "Epoch 38, CIFAR-10 Batch 1:  Cost: 0.69     Accuracy: 0.469\n",
      "Epoch 39, CIFAR-10 Batch 1:  Cost: 0.666    Accuracy: 0.471\n",
      "Epoch 40, CIFAR-10 Batch 1:  Cost: 0.677    Accuracy: 0.465\n",
      "Epoch 41, CIFAR-10 Batch 1:  Cost: 0.635    Accuracy: 0.468\n",
      "Epoch 42, CIFAR-10 Batch 1:  Cost: 0.675    Accuracy: 0.462\n",
      "Epoch 43, CIFAR-10 Batch 1:  Cost: 0.621    Accuracy: 0.463\n",
      "Epoch 44, CIFAR-10 Batch 1:  Cost: 0.576    Accuracy: 0.44 \n",
      "Epoch 45, CIFAR-10 Batch 1:  Cost: 0.628    Accuracy: 0.434\n",
      "Epoch 46, CIFAR-10 Batch 1:  Cost: 0.56     Accuracy: 0.462\n",
      "Epoch 47, CIFAR-10 Batch 1:  Cost: 0.539    Accuracy: 0.494\n",
      "Epoch 48, CIFAR-10 Batch 1:  Cost: 0.502    Accuracy: 0.49 \n",
      "Epoch 49, CIFAR-10 Batch 1:  Cost: 0.524    Accuracy: 0.497\n",
      "Epoch 50, CIFAR-10 Batch 1:  Cost: 0.503    Accuracy: 0.488\n"
     ]
    }
   ],
   "source": [
    "\"\"\"\n",
    "DON'T MODIFY ANYTHING IN THIS CELL\n",
    "\"\"\"\n",
    "print('Checking the Training on a Single Batch...')\n",
    "with tf.Session() as sess:\n",
    "    # Initializing the variables\n",
    "    sess.run(tf.global_variables_initializer())\n",
    "    \n",
    "    # Training cycle\n",
    "    for epoch in range(epochs):\n",
    "        batch_i = 1\n",
    "        for batch_features, batch_labels in helper.load_preprocess_training_batch(batch_i, batch_size):\n",
    "            train_neural_network(sess, optimizer, keep_probability, batch_features, batch_labels)\n",
    "        print('Epoch {:>2}, CIFAR-10 Batch {}:  '.format(epoch + 1, batch_i), end='')\n",
    "        print_stats(sess, batch_features, batch_labels, cost, accuracy)"
   ]
  },
  {
   "cell_type": "markdown",
   "metadata": {
    "deletable": true,
    "editable": true
   },
   "source": [
    "### Fully Train the Model\n",
    "Now that you got a good accuracy with a single CIFAR-10 batch, try it with all five batches."
   ]
  },
  {
   "cell_type": "code",
   "execution_count": 12,
   "metadata": {
    "collapsed": false,
    "deletable": true,
    "editable": true,
    "scrolled": false
   },
   "outputs": [
    {
     "name": "stdout",
     "output_type": "stream",
     "text": [
      "Training...\n",
      "Epoch  1, CIFAR-10 Batch 1:  Cost: 2.28     Accuracy: 0.196\n",
      "Epoch  1, CIFAR-10 Batch 2:  Cost: 2.2      Accuracy: 0.224\n",
      "Epoch  1, CIFAR-10 Batch 3:  Cost: 1.94     Accuracy: 0.251\n",
      "Epoch  1, CIFAR-10 Batch 4:  Cost: 1.96     Accuracy: 0.283\n",
      "Epoch  1, CIFAR-10 Batch 5:  Cost: 1.98     Accuracy: 0.309\n",
      "Epoch  2, CIFAR-10 Batch 1:  Cost: 2.16     Accuracy: 0.317\n",
      "Epoch  2, CIFAR-10 Batch 2:  Cost: 1.87     Accuracy: 0.338\n",
      "Epoch  2, CIFAR-10 Batch 3:  Cost: 1.68     Accuracy: 0.342\n",
      "Epoch  2, CIFAR-10 Batch 4:  Cost: 1.78     Accuracy: 0.341\n",
      "Epoch  2, CIFAR-10 Batch 5:  Cost: 1.85     Accuracy: 0.342\n",
      "Epoch  3, CIFAR-10 Batch 1:  Cost: 2.02     Accuracy: 0.36 \n",
      "Epoch  3, CIFAR-10 Batch 2:  Cost: 1.7      Accuracy: 0.366\n",
      "Epoch  3, CIFAR-10 Batch 3:  Cost: 1.56     Accuracy: 0.359\n",
      "Epoch  3, CIFAR-10 Batch 4:  Cost: 1.64     Accuracy: 0.368\n",
      "Epoch  3, CIFAR-10 Batch 5:  Cost: 1.76     Accuracy: 0.372\n",
      "Epoch  4, CIFAR-10 Batch 1:  Cost: 1.98     Accuracy: 0.376\n",
      "Epoch  4, CIFAR-10 Batch 2:  Cost: 1.68     Accuracy: 0.38 \n",
      "Epoch  4, CIFAR-10 Batch 3:  Cost: 1.5      Accuracy: 0.386\n",
      "Epoch  4, CIFAR-10 Batch 4:  Cost: 1.59     Accuracy: 0.391\n",
      "Epoch  4, CIFAR-10 Batch 5:  Cost: 1.71     Accuracy: 0.394\n",
      "Epoch  5, CIFAR-10 Batch 1:  Cost: 1.94     Accuracy: 0.392\n",
      "Epoch  5, CIFAR-10 Batch 2:  Cost: 1.62     Accuracy: 0.429\n",
      "Epoch  5, CIFAR-10 Batch 3:  Cost: 1.46     Accuracy: 0.414\n",
      "Epoch  5, CIFAR-10 Batch 4:  Cost: 1.5      Accuracy: 0.43 \n",
      "Epoch  5, CIFAR-10 Batch 5:  Cost: 1.59     Accuracy: 0.42 \n",
      "Epoch  6, CIFAR-10 Batch 1:  Cost: 1.76     Accuracy: 0.447\n",
      "Epoch  6, CIFAR-10 Batch 2:  Cost: 1.51     Accuracy: 0.468\n",
      "Epoch  6, CIFAR-10 Batch 3:  Cost: 1.3      Accuracy: 0.457\n",
      "Epoch  6, CIFAR-10 Batch 4:  Cost: 1.47     Accuracy: 0.46 \n",
      "Epoch  6, CIFAR-10 Batch 5:  Cost: 1.53     Accuracy: 0.465\n",
      "Epoch  7, CIFAR-10 Batch 1:  Cost: 1.68     Accuracy: 0.458\n",
      "Epoch  7, CIFAR-10 Batch 2:  Cost: 1.49     Accuracy: 0.501\n",
      "Epoch  7, CIFAR-10 Batch 3:  Cost: 1.2      Accuracy: 0.482\n",
      "Epoch  7, CIFAR-10 Batch 4:  Cost: 1.4      Accuracy: 0.483\n",
      "Epoch  7, CIFAR-10 Batch 5:  Cost: 1.43     Accuracy: 0.509\n",
      "Epoch  8, CIFAR-10 Batch 1:  Cost: 1.48     Accuracy: 0.499\n",
      "Epoch  8, CIFAR-10 Batch 2:  Cost: 1.32     Accuracy: 0.513\n",
      "Epoch  8, CIFAR-10 Batch 3:  Cost: 1.09     Accuracy: 0.517\n",
      "Epoch  8, CIFAR-10 Batch 4:  Cost: 1.34     Accuracy: 0.533\n",
      "Epoch  8, CIFAR-10 Batch 5:  Cost: 1.37     Accuracy: 0.518\n",
      "Epoch  9, CIFAR-10 Batch 1:  Cost: 1.35     Accuracy: 0.517\n",
      "Epoch  9, CIFAR-10 Batch 2:  Cost: 1.19     Accuracy: 0.511\n",
      "Epoch  9, CIFAR-10 Batch 3:  Cost: 1.07     Accuracy: 0.521\n",
      "Epoch  9, CIFAR-10 Batch 4:  Cost: 1.24     Accuracy: 0.55 \n",
      "Epoch  9, CIFAR-10 Batch 5:  Cost: 1.29     Accuracy: 0.524\n",
      "Epoch 10, CIFAR-10 Batch 1:  Cost: 1.21     Accuracy: 0.545\n",
      "Epoch 10, CIFAR-10 Batch 2:  Cost: 1.17     Accuracy: 0.547\n",
      "Epoch 10, CIFAR-10 Batch 3:  Cost: 0.958    Accuracy: 0.552\n",
      "Epoch 10, CIFAR-10 Batch 4:  Cost: 1.17     Accuracy: 0.567\n",
      "Epoch 10, CIFAR-10 Batch 5:  Cost: 1.22     Accuracy: 0.537\n",
      "Epoch 11, CIFAR-10 Batch 1:  Cost: 1.13     Accuracy: 0.564\n",
      "Epoch 11, CIFAR-10 Batch 2:  Cost: 1.15     Accuracy: 0.571\n",
      "Epoch 11, CIFAR-10 Batch 3:  Cost: 0.849    Accuracy: 0.573\n",
      "Epoch 11, CIFAR-10 Batch 4:  Cost: 1.12     Accuracy: 0.577\n",
      "Epoch 11, CIFAR-10 Batch 5:  Cost: 1.08     Accuracy: 0.563\n",
      "Epoch 12, CIFAR-10 Batch 1:  Cost: 1.01     Accuracy: 0.586\n",
      "Epoch 12, CIFAR-10 Batch 2:  Cost: 1.01     Accuracy: 0.573\n",
      "Epoch 12, CIFAR-10 Batch 3:  Cost: 0.784    Accuracy: 0.592\n",
      "Epoch 12, CIFAR-10 Batch 4:  Cost: 1.03     Accuracy: 0.584\n",
      "Epoch 12, CIFAR-10 Batch 5:  Cost: 1.0      Accuracy: 0.572\n",
      "Epoch 13, CIFAR-10 Batch 1:  Cost: 0.939    Accuracy: 0.588\n",
      "Epoch 13, CIFAR-10 Batch 2:  Cost: 0.929    Accuracy: 0.595\n",
      "Epoch 13, CIFAR-10 Batch 3:  Cost: 0.854    Accuracy: 0.597\n",
      "Epoch 13, CIFAR-10 Batch 4:  Cost: 0.989    Accuracy: 0.591\n",
      "Epoch 13, CIFAR-10 Batch 5:  Cost: 0.957    Accuracy: 0.588\n",
      "Epoch 14, CIFAR-10 Batch 1:  Cost: 0.875    Accuracy: 0.601\n",
      "Epoch 14, CIFAR-10 Batch 2:  Cost: 0.857    Accuracy: 0.601\n",
      "Epoch 14, CIFAR-10 Batch 3:  Cost: 0.727    Accuracy: 0.611\n",
      "Epoch 14, CIFAR-10 Batch 4:  Cost: 0.952    Accuracy: 0.601\n",
      "Epoch 14, CIFAR-10 Batch 5:  Cost: 0.873    Accuracy: 0.609\n",
      "Epoch 15, CIFAR-10 Batch 1:  Cost: 0.776    Accuracy: 0.617\n",
      "Epoch 15, CIFAR-10 Batch 2:  Cost: 0.752    Accuracy: 0.603\n",
      "Epoch 15, CIFAR-10 Batch 3:  Cost: 0.712    Accuracy: 0.612\n",
      "Epoch 15, CIFAR-10 Batch 4:  Cost: 0.927    Accuracy: 0.603\n",
      "Epoch 15, CIFAR-10 Batch 5:  Cost: 0.815    Accuracy: 0.608\n",
      "Epoch 16, CIFAR-10 Batch 1:  Cost: 0.749    Accuracy: 0.615\n",
      "Epoch 16, CIFAR-10 Batch 2:  Cost: 0.785    Accuracy: 0.608\n",
      "Epoch 16, CIFAR-10 Batch 3:  Cost: 0.654    Accuracy: 0.618\n",
      "Epoch 16, CIFAR-10 Batch 4:  Cost: 0.93     Accuracy: 0.624\n",
      "Epoch 16, CIFAR-10 Batch 5:  Cost: 0.791    Accuracy: 0.613\n",
      "Epoch 17, CIFAR-10 Batch 1:  Cost: 0.712    Accuracy: 0.619\n",
      "Epoch 17, CIFAR-10 Batch 2:  Cost: 0.702    Accuracy: 0.616\n",
      "Epoch 17, CIFAR-10 Batch 3:  Cost: 0.592    Accuracy: 0.629\n",
      "Epoch 17, CIFAR-10 Batch 4:  Cost: 0.851    Accuracy: 0.618\n",
      "Epoch 17, CIFAR-10 Batch 5:  Cost: 0.714    Accuracy: 0.618\n",
      "Epoch 18, CIFAR-10 Batch 1:  Cost: 0.666    Accuracy: 0.631\n",
      "Epoch 18, CIFAR-10 Batch 2:  Cost: 0.708    Accuracy: 0.613\n",
      "Epoch 18, CIFAR-10 Batch 3:  Cost: 0.533    Accuracy: 0.622\n",
      "Epoch 18, CIFAR-10 Batch 4:  Cost: 0.811    Accuracy: 0.627\n",
      "Epoch 18, CIFAR-10 Batch 5:  Cost: 0.726    Accuracy: 0.622\n",
      "Epoch 19, CIFAR-10 Batch 1:  Cost: 0.651    Accuracy: 0.623\n",
      "Epoch 19, CIFAR-10 Batch 2:  Cost: 0.686    Accuracy: 0.627\n",
      "Epoch 19, CIFAR-10 Batch 3:  Cost: 0.516    Accuracy: 0.628\n",
      "Epoch 19, CIFAR-10 Batch 4:  Cost: 0.812    Accuracy: 0.626\n",
      "Epoch 19, CIFAR-10 Batch 5:  Cost: 0.622    Accuracy: 0.628\n",
      "Epoch 20, CIFAR-10 Batch 1:  Cost: 0.66     Accuracy: 0.634\n",
      "Epoch 20, CIFAR-10 Batch 2:  Cost: 0.596    Accuracy: 0.628\n",
      "Epoch 20, CIFAR-10 Batch 3:  Cost: 0.513    Accuracy: 0.636\n",
      "Epoch 20, CIFAR-10 Batch 4:  Cost: 0.757    Accuracy: 0.629\n",
      "Epoch 20, CIFAR-10 Batch 5:  Cost: 0.58     Accuracy: 0.635\n",
      "Epoch 21, CIFAR-10 Batch 1:  Cost: 0.598    Accuracy: 0.638\n",
      "Epoch 21, CIFAR-10 Batch 2:  Cost: 0.563    Accuracy: 0.633\n",
      "Epoch 21, CIFAR-10 Batch 3:  Cost: 0.517    Accuracy: 0.64 \n",
      "Epoch 21, CIFAR-10 Batch 4:  Cost: 0.744    Accuracy: 0.644\n",
      "Epoch 21, CIFAR-10 Batch 5:  Cost: 0.558    Accuracy: 0.636\n",
      "Epoch 22, CIFAR-10 Batch 1:  Cost: 0.554    Accuracy: 0.64 \n",
      "Epoch 22, CIFAR-10 Batch 2:  Cost: 0.585    Accuracy: 0.633\n",
      "Epoch 22, CIFAR-10 Batch 3:  Cost: 0.421    Accuracy: 0.636\n",
      "Epoch 22, CIFAR-10 Batch 4:  Cost: 0.647    Accuracy: 0.642\n",
      "Epoch 22, CIFAR-10 Batch 5:  Cost: 0.573    Accuracy: 0.639\n",
      "Epoch 23, CIFAR-10 Batch 1:  Cost: 0.546    Accuracy: 0.633\n",
      "Epoch 23, CIFAR-10 Batch 2:  Cost: 0.531    Accuracy: 0.631\n",
      "Epoch 23, CIFAR-10 Batch 3:  Cost: 0.432    Accuracy: 0.632\n",
      "Epoch 23, CIFAR-10 Batch 4:  Cost: 0.633    Accuracy: 0.64 \n",
      "Epoch 23, CIFAR-10 Batch 5:  Cost: 0.511    Accuracy: 0.634\n",
      "Epoch 24, CIFAR-10 Batch 1:  Cost: 0.554    Accuracy: 0.628\n",
      "Epoch 24, CIFAR-10 Batch 2:  Cost: 0.551    Accuracy: 0.632\n",
      "Epoch 24, CIFAR-10 Batch 3:  Cost: 0.389    Accuracy: 0.638\n",
      "Epoch 24, CIFAR-10 Batch 4:  Cost: 0.615    Accuracy: 0.646\n",
      "Epoch 24, CIFAR-10 Batch 5:  Cost: 0.513    Accuracy: 0.636\n",
      "Epoch 25, CIFAR-10 Batch 1:  Cost: 0.526    Accuracy: 0.643\n",
      "Epoch 25, CIFAR-10 Batch 2:  Cost: 0.523    Accuracy: 0.626\n",
      "Epoch 25, CIFAR-10 Batch 3:  Cost: 0.367    Accuracy: 0.639\n",
      "Epoch 25, CIFAR-10 Batch 4:  Cost: 0.599    Accuracy: 0.645\n",
      "Epoch 25, CIFAR-10 Batch 5:  Cost: 0.48     Accuracy: 0.642\n",
      "Epoch 26, CIFAR-10 Batch 1:  Cost: 0.481    Accuracy: 0.639\n",
      "Epoch 26, CIFAR-10 Batch 2:  Cost: 0.475    Accuracy: 0.639\n",
      "Epoch 26, CIFAR-10 Batch 3:  Cost: 0.358    Accuracy: 0.651\n",
      "Epoch 26, CIFAR-10 Batch 4:  Cost: 0.52     Accuracy: 0.651\n",
      "Epoch 26, CIFAR-10 Batch 5:  Cost: 0.441    Accuracy: 0.651\n",
      "Epoch 27, CIFAR-10 Batch 1:  Cost: 0.472    Accuracy: 0.649\n",
      "Epoch 27, CIFAR-10 Batch 2:  Cost: 0.428    Accuracy: 0.647\n",
      "Epoch 27, CIFAR-10 Batch 3:  Cost: 0.38     Accuracy: 0.644\n",
      "Epoch 27, CIFAR-10 Batch 4:  Cost: 0.526    Accuracy: 0.645\n",
      "Epoch 27, CIFAR-10 Batch 5:  Cost: 0.442    Accuracy: 0.648\n",
      "Epoch 28, CIFAR-10 Batch 1:  Cost: 0.483    Accuracy: 0.652\n",
      "Epoch 28, CIFAR-10 Batch 2:  Cost: 0.445    Accuracy: 0.643\n",
      "Epoch 28, CIFAR-10 Batch 3:  Cost: 0.345    Accuracy: 0.646\n",
      "Epoch 28, CIFAR-10 Batch 4:  Cost: 0.529    Accuracy: 0.639\n",
      "Epoch 28, CIFAR-10 Batch 5:  Cost: 0.456    Accuracy: 0.647\n",
      "Epoch 29, CIFAR-10 Batch 1:  Cost: 0.532    Accuracy: 0.624\n",
      "Epoch 29, CIFAR-10 Batch 2:  Cost: 0.391    Accuracy: 0.64 \n",
      "Epoch 29, CIFAR-10 Batch 3:  Cost: 0.302    Accuracy: 0.645\n",
      "Epoch 29, CIFAR-10 Batch 4:  Cost: 0.498    Accuracy: 0.651\n",
      "Epoch 29, CIFAR-10 Batch 5:  Cost: 0.404    Accuracy: 0.654\n",
      "Epoch 30, CIFAR-10 Batch 1:  Cost: 0.476    Accuracy: 0.65 \n",
      "Epoch 30, CIFAR-10 Batch 2:  Cost: 0.43     Accuracy: 0.656\n",
      "Epoch 30, CIFAR-10 Batch 3:  Cost: 0.29     Accuracy: 0.645\n",
      "Epoch 30, CIFAR-10 Batch 4:  Cost: 0.482    Accuracy: 0.649\n",
      "Epoch 30, CIFAR-10 Batch 5:  Cost: 0.381    Accuracy: 0.646\n",
      "Epoch 31, CIFAR-10 Batch 1:  Cost: 0.453    Accuracy: 0.65 \n",
      "Epoch 31, CIFAR-10 Batch 2:  Cost: 0.445    Accuracy: 0.646\n",
      "Epoch 31, CIFAR-10 Batch 3:  Cost: 0.307    Accuracy: 0.646\n",
      "Epoch 31, CIFAR-10 Batch 4:  Cost: 0.454    Accuracy: 0.657\n",
      "Epoch 31, CIFAR-10 Batch 5:  Cost: 0.403    Accuracy: 0.653\n",
      "Epoch 32, CIFAR-10 Batch 1:  Cost: 0.425    Accuracy: 0.65 \n",
      "Epoch 32, CIFAR-10 Batch 2:  Cost: 0.399    Accuracy: 0.647\n",
      "Epoch 32, CIFAR-10 Batch 3:  Cost: 0.29     Accuracy: 0.64 \n",
      "Epoch 32, CIFAR-10 Batch 4:  Cost: 0.436    Accuracy: 0.659\n",
      "Epoch 32, CIFAR-10 Batch 5:  Cost: 0.343    Accuracy: 0.653\n",
      "Epoch 33, CIFAR-10 Batch 1:  Cost: 0.426    Accuracy: 0.642\n",
      "Epoch 33, CIFAR-10 Batch 2:  Cost: 0.344    Accuracy: 0.655\n",
      "Epoch 33, CIFAR-10 Batch 3:  Cost: 0.303    Accuracy: 0.646\n",
      "Epoch 33, CIFAR-10 Batch 4:  Cost: 0.467    Accuracy: 0.649\n",
      "Epoch 33, CIFAR-10 Batch 5:  Cost: 0.36     Accuracy: 0.659\n",
      "Epoch 34, CIFAR-10 Batch 1:  Cost: 0.429    Accuracy: 0.636\n",
      "Epoch 34, CIFAR-10 Batch 2:  Cost: 0.34     Accuracy: 0.65 \n",
      "Epoch 34, CIFAR-10 Batch 3:  Cost: 0.271    Accuracy: 0.65 \n",
      "Epoch 34, CIFAR-10 Batch 4:  Cost: 0.393    Accuracy: 0.659\n",
      "Epoch 34, CIFAR-10 Batch 5:  Cost: 0.351    Accuracy: 0.657\n",
      "Epoch 35, CIFAR-10 Batch 1:  Cost: 0.365    Accuracy: 0.658\n",
      "Epoch 35, CIFAR-10 Batch 2:  Cost: 0.342    Accuracy: 0.657\n",
      "Epoch 35, CIFAR-10 Batch 3:  Cost: 0.262    Accuracy: 0.659\n",
      "Epoch 35, CIFAR-10 Batch 4:  Cost: 0.387    Accuracy: 0.65 \n",
      "Epoch 35, CIFAR-10 Batch 5:  Cost: 0.289    Accuracy: 0.652\n",
      "Epoch 36, CIFAR-10 Batch 1:  Cost: 0.375    Accuracy: 0.649\n",
      "Epoch 36, CIFAR-10 Batch 2:  Cost: 0.35     Accuracy: 0.652\n",
      "Epoch 36, CIFAR-10 Batch 3:  Cost: 0.259    Accuracy: 0.64 \n",
      "Epoch 36, CIFAR-10 Batch 4:  Cost: 0.356    Accuracy: 0.663\n",
      "Epoch 36, CIFAR-10 Batch 5:  Cost: 0.312    Accuracy: 0.655\n",
      "Epoch 37, CIFAR-10 Batch 1:  Cost: 0.382    Accuracy: 0.652\n",
      "Epoch 37, CIFAR-10 Batch 2:  Cost: 0.359    Accuracy: 0.649\n",
      "Epoch 37, CIFAR-10 Batch 3:  Cost: 0.262    Accuracy: 0.654\n",
      "Epoch 37, CIFAR-10 Batch 4:  Cost: 0.344    Accuracy: 0.661\n",
      "Epoch 37, CIFAR-10 Batch 5:  Cost: 0.31     Accuracy: 0.656\n",
      "Epoch 38, CIFAR-10 Batch 1:  Cost: 0.368    Accuracy: 0.65 \n",
      "Epoch 38, CIFAR-10 Batch 2:  Cost: 0.277    Accuracy: 0.65 \n",
      "Epoch 38, CIFAR-10 Batch 3:  Cost: 0.242    Accuracy: 0.656\n",
      "Epoch 38, CIFAR-10 Batch 4:  Cost: 0.336    Accuracy: 0.655\n",
      "Epoch 38, CIFAR-10 Batch 5:  Cost: 0.271    Accuracy: 0.654\n",
      "Epoch 39, CIFAR-10 Batch 1:  Cost: 0.379    Accuracy: 0.638\n",
      "Epoch 39, CIFAR-10 Batch 2:  Cost: 0.278    Accuracy: 0.647\n",
      "Epoch 39, CIFAR-10 Batch 3:  Cost: 0.238    Accuracy: 0.65 \n",
      "Epoch 39, CIFAR-10 Batch 4:  Cost: 0.337    Accuracy: 0.658\n",
      "Epoch 39, CIFAR-10 Batch 5:  Cost: 0.266    Accuracy: 0.658\n",
      "Epoch 40, CIFAR-10 Batch 1:  Cost: 0.338    Accuracy: 0.652\n",
      "Epoch 40, CIFAR-10 Batch 2:  Cost: 0.298    Accuracy: 0.651\n",
      "Epoch 40, CIFAR-10 Batch 3:  Cost: 0.227    Accuracy: 0.661\n",
      "Epoch 40, CIFAR-10 Batch 4:  Cost: 0.323    Accuracy: 0.657\n",
      "Epoch 40, CIFAR-10 Batch 5:  Cost: 0.258    Accuracy: 0.654\n",
      "Epoch 41, CIFAR-10 Batch 1:  Cost: 0.34     Accuracy: 0.651\n",
      "Epoch 41, CIFAR-10 Batch 2:  Cost: 0.327    Accuracy: 0.641\n",
      "Epoch 41, CIFAR-10 Batch 3:  Cost: 0.222    Accuracy: 0.656\n",
      "Epoch 41, CIFAR-10 Batch 4:  Cost: 0.284    Accuracy: 0.659\n",
      "Epoch 41, CIFAR-10 Batch 5:  Cost: 0.284    Accuracy: 0.653\n",
      "Epoch 42, CIFAR-10 Batch 1:  Cost: 0.363    Accuracy: 0.64 \n",
      "Epoch 42, CIFAR-10 Batch 2:  Cost: 0.283    Accuracy: 0.635\n",
      "Epoch 42, CIFAR-10 Batch 3:  Cost: 0.224    Accuracy: 0.656\n",
      "Epoch 42, CIFAR-10 Batch 4:  Cost: 0.305    Accuracy: 0.648\n",
      "Epoch 42, CIFAR-10 Batch 5:  Cost: 0.254    Accuracy: 0.657\n",
      "Epoch 43, CIFAR-10 Batch 1:  Cost: 0.354    Accuracy: 0.656\n",
      "Epoch 43, CIFAR-10 Batch 2:  Cost: 0.289    Accuracy: 0.644\n",
      "Epoch 43, CIFAR-10 Batch 3:  Cost: 0.228    Accuracy: 0.646\n",
      "Epoch 43, CIFAR-10 Batch 4:  Cost: 0.301    Accuracy: 0.641\n",
      "Epoch 43, CIFAR-10 Batch 5:  Cost: 0.277    Accuracy: 0.652\n",
      "Epoch 44, CIFAR-10 Batch 1:  Cost: 0.33     Accuracy: 0.652\n",
      "Epoch 44, CIFAR-10 Batch 2:  Cost: 0.322    Accuracy: 0.636\n",
      "Epoch 44, CIFAR-10 Batch 3:  Cost: 0.213    Accuracy: 0.645\n",
      "Epoch 44, CIFAR-10 Batch 4:  Cost: 0.357    Accuracy: 0.644\n",
      "Epoch 44, CIFAR-10 Batch 5:  Cost: 0.262    Accuracy: 0.662\n",
      "Epoch 45, CIFAR-10 Batch 1:  Cost: 0.345    Accuracy: 0.652\n",
      "Epoch 45, CIFAR-10 Batch 2:  Cost: 0.306    Accuracy: 0.638\n",
      "Epoch 45, CIFAR-10 Batch 3:  Cost: 0.188    Accuracy: 0.655\n",
      "Epoch 45, CIFAR-10 Batch 4:  Cost: 0.291    Accuracy: 0.641\n",
      "Epoch 45, CIFAR-10 Batch 5:  Cost: 0.258    Accuracy: 0.661\n",
      "Epoch 46, CIFAR-10 Batch 1:  Cost: 0.297    Accuracy: 0.641\n",
      "Epoch 46, CIFAR-10 Batch 2:  Cost: 0.269    Accuracy: 0.637\n",
      "Epoch 46, CIFAR-10 Batch 3:  Cost: 0.193    Accuracy: 0.658\n",
      "Epoch 46, CIFAR-10 Batch 4:  Cost: 0.235    Accuracy: 0.654\n",
      "Epoch 46, CIFAR-10 Batch 5:  Cost: 0.296    Accuracy: 0.652\n",
      "Epoch 47, CIFAR-10 Batch 1:  Cost: 0.314    Accuracy: 0.65 \n",
      "Epoch 47, CIFAR-10 Batch 2:  Cost: 0.294    Accuracy: 0.639\n",
      "Epoch 47, CIFAR-10 Batch 3:  Cost: 0.174    Accuracy: 0.656\n",
      "Epoch 47, CIFAR-10 Batch 4:  Cost: 0.281    Accuracy: 0.646\n",
      "Epoch 47, CIFAR-10 Batch 5:  Cost: 0.254    Accuracy: 0.649\n",
      "Epoch 48, CIFAR-10 Batch 1:  Cost: 0.263    Accuracy: 0.654\n",
      "Epoch 48, CIFAR-10 Batch 2:  Cost: 0.23     Accuracy: 0.651\n",
      "Epoch 48, CIFAR-10 Batch 3:  Cost: 0.171    Accuracy: 0.648\n",
      "Epoch 48, CIFAR-10 Batch 4:  Cost: 0.231    Accuracy: 0.652\n",
      "Epoch 48, CIFAR-10 Batch 5:  Cost: 0.288    Accuracy: 0.655\n",
      "Epoch 49, CIFAR-10 Batch 1:  Cost: 0.292    Accuracy: 0.64 \n",
      "Epoch 49, CIFAR-10 Batch 2:  Cost: 0.252    Accuracy: 0.648\n",
      "Epoch 49, CIFAR-10 Batch 3:  Cost: 0.19     Accuracy: 0.649\n",
      "Epoch 49, CIFAR-10 Batch 4:  Cost: 0.238    Accuracy: 0.661\n",
      "Epoch 49, CIFAR-10 Batch 5:  Cost: 0.253    Accuracy: 0.647\n",
      "Epoch 50, CIFAR-10 Batch 1:  Cost: 0.251    Accuracy: 0.636\n",
      "Epoch 50, CIFAR-10 Batch 2:  Cost: 0.237    Accuracy: 0.636\n",
      "Epoch 50, CIFAR-10 Batch 3:  Cost: 0.176    Accuracy: 0.662\n",
      "Epoch 50, CIFAR-10 Batch 4:  Cost: 0.271    Accuracy: 0.647\n",
      "Epoch 50, CIFAR-10 Batch 5:  Cost: 0.218    Accuracy: 0.655\n"
     ]
    }
   ],
   "source": [
    "\"\"\"\n",
    "DON'T MODIFY ANYTHING IN THIS CELL\n",
    "\"\"\"\n",
    "save_model_path = './image_classification'\n",
    "\n",
    "print('Training...')\n",
    "with tf.Session() as sess:\n",
    "    # Initializing the variables\n",
    "    sess.run(tf.global_variables_initializer())\n",
    "    \n",
    "    # Training cycle\n",
    "    for epoch in range(epochs):\n",
    "        # Loop over all batches\n",
    "        n_batches = 5\n",
    "        for batch_i in range(1, n_batches + 1):\n",
    "            for batch_features, batch_labels in helper.load_preprocess_training_batch(batch_i, batch_size):\n",
    "                train_neural_network(sess, optimizer, keep_probability, batch_features, batch_labels)\n",
    "            print('Epoch {:>2}, CIFAR-10 Batch {}:  '.format(epoch + 1, batch_i), end='')\n",
    "            print_stats(sess, batch_features, batch_labels, cost, accuracy)\n",
    "            \n",
    "    # Save Model\n",
    "    saver = tf.train.Saver()\n",
    "    save_path = saver.save(sess, save_model_path)"
   ]
  },
  {
   "cell_type": "markdown",
   "metadata": {
    "deletable": true,
    "editable": true
   },
   "source": [
    "# Checkpoint\n",
    "The model has been saved to disk.\n",
    "## Test Model\n",
    "Test your model against the test dataset.  This will be your final accuracy. You should have an accuracy greater than 50%. If you don't, keep tweaking the model architecture and parameters."
   ]
  },
  {
   "cell_type": "code",
   "execution_count": 13,
   "metadata": {
    "collapsed": false,
    "deletable": true,
    "editable": true
   },
   "outputs": [
    {
     "name": "stdout",
     "output_type": "stream",
     "text": [
      "Testing Accuracy: 0.6512064873417721\n",
      "\n"
     ]
    },
    {
     "data": {
      "image/png": "[encoded data removed]",
      "text/plain": [
       "<matplotlib.figure.Figure at 0x7f82e9759320>"
      ]
     },
     "metadata": {
      "image/png": {
       "height": 445,
       "width": 493
      }
     },
     "output_type": "display_data"
    }
   ],
   "source": [
    "\"\"\"\n",
    "DON'T MODIFY ANYTHING IN THIS CELL\n",
    "\"\"\"\n",
    "%matplotlib inline\n",
    "%config InlineBackend.figure_format = 'retina'\n",
    "\n",
    "import tensorflow as tf\n",
    "import pickle\n",
    "import helper\n",
    "import random\n",
    "\n",
    "# Set batch size if not already set\n",
    "try:\n",
    "    if batch_size:\n",
    "        pass\n",
    "except NameError:\n",
    "    batch_size = 64\n",
    "\n",
    "save_model_path = './image_classification'\n",
    "n_samples = 4\n",
    "top_n_predictions = 3\n",
    "\n",
    "def test_model():\n",
    "    \"\"\"\n",
    "    Test the saved model against the test dataset\n",
    "    \"\"\"\n",
    "\n",
    "    test_features, test_labels = pickle.load(open('preprocess_training.p', mode='rb'))\n",
    "    loaded_graph = tf.Graph()\n",
    "\n",
    "    with tf.Session(graph=loaded_graph) as sess:\n",
    "        # Load model\n",
    "        loader = tf.train.import_meta_graph(save_model_path + '.meta')\n",
    "        loader.restore(sess, save_model_path)\n",
    "\n",
    "        # Get Tensors from loaded model\n",
    "        loaded_x = loaded_graph.get_tensor_by_name('x:0')\n",
    "        loaded_y = loaded_graph.get_tensor_by_name('y:0')\n",
    "        loaded_keep_prob = loaded_graph.get_tensor_by_name('keep_prob:0')\n",
    "        loaded_logits = loaded_graph.get_tensor_by_name('logits:0')\n",
    "        loaded_acc = loaded_graph.get_tensor_by_name('accuracy:0')\n",
    "        \n",
    "        # Get accuracy in batches for memory limitations\n",
    "        test_batch_acc_total = 0\n",
    "        test_batch_count = 0\n",
    "        \n",
    "        for train_feature_batch, train_label_batch in helper.batch_features_labels(test_features, test_labels, batch_size):\n",
    "            test_batch_acc_total += sess.run(\n",
    "                loaded_acc,\n",
    "                feed_dict={loaded_x: train_feature_batch, loaded_y: train_label_batch, loaded_keep_prob: 1.0})\n",
    "            test_batch_count += 1\n",
    "\n",
    "        print('Testing Accuracy: {}\\n'.format(test_batch_acc_total/test_batch_count))\n",
    "\n",
    "        # Print Random Samples\n",
    "        random_test_features, random_test_labels = tuple(zip(*random.sample(list(zip(test_features, test_labels)), n_samples)))\n",
    "        random_test_predictions = sess.run(\n",
    "            tf.nn.top_k(tf.nn.softmax(loaded_logits), top_n_predictions),\n",
    "            feed_dict={loaded_x: random_test_features, loaded_y: random_test_labels, loaded_keep_prob: 1.0})\n",
    "        helper.display_image_predictions(random_test_features, random_test_labels, random_test_predictions)\n",
    "\n",
    "\n",
    "test_model()"
   ]
  },
  {
   "cell_type": "markdown",
   "metadata": {
    "deletable": true,
    "editable": true
   },
   "source": [
    "## Why 50-80% Accuracy?\n",
    "You might be wondering why you can't get an accuracy any higher. First things first, 50% isn't bad for a simple CNN.  Pure guessing would get you 10% accuracy. However, you might notice people are getting scores [well above 80%](http://rodrigob.github.io/are_we_there_yet/build/classification_datasets_results.html#43494641522d3130).  That's because we haven't taught you all there is to know about neural networks. We still need to cover a few more techniques.\n",
    "## Submitting This Project\n",
    "When submitting this project, make sure to run all the cells before saving the notebook.  Save the notebook file as \"dlnd_image_classification.ipynb\" and save it as a HTML file under \"File\" -> \"Download as\".  Include the \"helper.py\" and \"problem_unittests.py\" files in your submission."
   ]
  }
 ],
 "metadata": {
  "anaconda-cloud": {},
  "kernelspec": {
   "display_name": "Python [default]",
   "language": "python",
   "name": "python3"
  },
  "language_info": {
   "codemirror_mode": {
    "name": "ipython",
    "version": 3
   },
   "file_extension": ".py",
   "mimetype": "text/x-python",
   "name": "python",
   "nbconvert_exporter": "python",
   "pygments_lexer": "ipython3",
   "version": "3.5.2"
  }
 },
 "nbformat": 4,
 "nbformat_minor": 0
}
